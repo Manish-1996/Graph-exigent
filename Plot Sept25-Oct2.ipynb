{
 "cells": [
  {
   "cell_type": "code",
   "execution_count": 3,
   "metadata": {},
   "outputs": [
    {
     "data": {
      "application/vnd.plotly.v1+json": {
       "config": {
        "plotlyServerURL": "https://plot.ly"
       },
       "data": [
        {
         "line": {
          "color": "red"
         },
         "name": "Sep25",
         "type": "scatter",
         "x": [
          "Affiliates included",
          "Client Legal Name",
          "Counterparty Legal Name",
          "Products, Services or Combination",
          "Subject Matter of the Contract",
          "Title of Agreement",
          "Assignment Clause",
          "For certain transferees",
          "Mutually excluded",
          "Provided on written consent",
          "Unilaterally excluded",
          "Change of Control Clause",
          "For certain transferees",
          "Mutually excluded",
          "Provided on written consent",
          "Audit Rights Clause - Details",
          "Burden Rates Apply",
          "Cap on Inflation Risk Absorbed (%)",
          "Currency of the Agreement",
          "Deemed Acceptance Period (days after delivery)",
          "Fixed Fee",
          "Guaranteed Maximum Price",
          "Hourly Rates Apply",
          "Inflation Risk Absorbed by Supplier",
          "Liquidated Damages Clause",
          "Maximum Discount Percentage",
          "Minimum Discount Percentage",
          "Minimum Quantity Amount (including unit of measure)",
          "Minimum Quantity Clause",
          "Minimum Quantity Period (months)",
          "Minimum Spend Amount (local currency)",
          "Minimum Spend Clause",
          "Minimum Spend Period (months)",
          "Most Favored Nation - Details",
          "Most Favored Nation Clause",
          "Payment Duration (days)",
          "Payment Terms",
          "Penalties Clause",
          "Per Unit Pricing Applies",
          "Price Adjustment Clause",
          "Product Purchase Frequency",
          "Product Return Policy Present",
          "Savings Guarantees Present",
          "Service or Product Delivery Frequency",
          "Subscription Rates Apply",
          "Summary of Pricing Components",
          "Title and Risk of Loss Provisions Details",
          "Upfront or Down Payment Terms",
          "Volume Discounts or Rebates Available",
          "Arbitration clause",
          "Excluded laws and conventions",
          "Governing Law",
          "Jurisdiction Exclusivity",
          "Venue and Jurisdiction",
          "Cap on Limitation of Liability for Client",
          "Cap on Limitation of Liability for Counterparty",
          "Commercial general liability Insurance levels applicable",
          "Limitation of Liability Carve Outs",
          "Limitation of Liability Clause",
          "Audit Rights Clause",
          "Confidentiality Clause",
          "Data Privacy Clause",
          "Guarantee clause",
          "Intellectual Property Licensing Provisions Present",
          "Intellectual Property Ownership Provisions Present",
          "Non-Solicitation Clause",
          "Noncompete Clause",
          "Product or Service Warranties Present",
          "Product or Service Warranty Exclusions or Limitations Present",
          "Product Warranty Exclusions or Limitations Present",
          "Product Warranty Present",
          "Publicity Clause",
          "Survival Clause",
          "Third party beneficiaries",
          "Courier or Messenger",
          "Delivered personally",
          "Email",
          "Facsimile",
          "Mail",
          "Breach of covenant",
          "Client has indemnity obligations",
          "Costs and expenses",
          "Counterparty has indemnity obligations",
          "Injury or death of persons",
          "Legal costs",
          "Loss or damage to property",
          "Auto Renewal Cancellation Notice Period (days)",
          "Auto Renewal Clause",
          "Client Termination for Convenience",
          "Client Termination for convenience details",
          "Client Termination for Convenience Notice Period (days)",
          "Commencement date",
          "Counterparty Notice Address Details",
          "Counterparty Termination for Convenience",
          "Counterparty Termination for convenience details",
          "Counterparty Termination for Convenience Notice Period (days)",
          "Effective date",
          "Expiry date",
          "Option to Renew",
          "Perpetual?",
          "Renewal date",
          "Renewal term (years)",
          "Term of agreement (months)",
          "Termination for cause cure period (days)",
          "Transition Obligation Details",
          "Transition Obligations on Client?"
         ],
         "y": [
          75.29,
          30.59,
          27.06,
          0,
          0,
          61.18,
          69.41,
          57.83,
          79.76,
          84.88,
          71.08,
          61.9,
          35.37,
          80,
          90.24,
          62.65,
          98.82,
          0,
          20,
          0,
          32.94,
          100,
          96.47,
          100,
          100,
          0,
          0,
          0,
          0,
          0,
          0,
          0,
          0,
          0,
          100,
          0,
          0,
          94.87,
          85.19,
          94.87,
          0,
          98.82,
          100,
          0,
          100,
          0,
          0,
          0,
          100,
          92.41,
          25,
          33.75,
          51.52,
          44.74,
          0,
          0,
          58.62,
          0,
          45.24,
          18.82,
          64.56,
          95.29,
          0,
          80.77,
          73.08,
          97.44,
          85.37,
          51.81,
          91.03,
          0,
          0,
          50.6,
          27.06,
          0,
          87.65,
          85.54,
          91.03,
          76.54,
          89.41,
          43.75,
          18.82,
          76.47,
          0,
          60.49,
          85.88,
          53.01,
          0,
          40.48,
          63.1,
          0,
          0,
          40.74,
          0,
          62.65,
          0,
          0,
          37.35,
          12.5,
          98.77,
          75.64,
          2.56,
          29.03,
          0,
          58.57,
          0,
          71.25
         ]
        },
        {
         "line": {
          "color": "blue"
         },
         "name": "Oct2",
         "type": "scatter",
         "x": [
          "Affiliates included",
          "Client Legal Name",
          "Counterparty Legal Name",
          "Products, Services or Combination",
          "Subject Matter of the Contract",
          "Title of Agreement",
          "Assignment Clause",
          "For certain transferees",
          "Mutually excluded",
          "Provided on written consent",
          "Unilaterally excluded",
          "Change of Control Clause",
          "For certain transferees",
          "Mutually excluded",
          "Provided on written consent",
          "Audit Rights Clause - Details",
          "Burden Rates Apply",
          "Cap on Inflation Risk Absorbed (%)",
          "Currency of the Agreement",
          "Deemed Acceptance Period (days after delivery)",
          "Fixed Fee",
          "Guaranteed Maximum Price",
          "Hourly Rates Apply",
          "Inflation Risk Absorbed by Supplier",
          "Liquidated Damages Clause",
          "Maximum Discount Percentage",
          "Minimum Discount Percentage",
          "Minimum Quantity Amount (including unit of measure)",
          "Minimum Quantity Clause",
          "Minimum Quantity Period (months)",
          "Minimum Spend Amount (local currency)",
          "Minimum Spend Clause",
          "Minimum Spend Period (months)",
          "Most Favored Nation - Details",
          "Most Favored Nation Clause",
          "Payment Duration (days)",
          "Payment Terms",
          "Penalties Clause",
          "Per Unit Pricing Applies",
          "Price Adjustment Clause",
          "Product Purchase Frequency",
          "Product Return Policy Present",
          "Savings Guarantees Present",
          "Service or Product Delivery Frequency",
          "Subscription Rates Apply",
          "Summary of Pricing Components",
          "Title and Risk of Loss Provisions Details",
          "Upfront or Down Payment Terms",
          "Volume Discounts or Rebates Available",
          "Arbitration clause",
          "Excluded laws and conventions",
          "Governing Law",
          "Jurisdiction Exclusivity",
          "Venue and Jurisdiction",
          "Cap on Limitation of Liability for Client",
          "Cap on Limitation of Liability for Counterparty",
          "Commercial general liability Insurance levels applicable",
          "Limitation of Liability Carve Outs",
          "Limitation of Liability Clause",
          "Audit Rights Clause",
          "Confidentiality Clause",
          "Data Privacy Clause",
          "Guarantee clause",
          "Intellectual Property Licensing Provisions Present",
          "Intellectual Property Ownership Provisions Present",
          "Non-Solicitation Clause",
          "Noncompete Clause",
          "Product or Service Warranties Present",
          "Product or Service Warranty Exclusions or Limitations Present",
          "Product Warranty Exclusions or Limitations Present",
          "Product Warranty Present",
          "Publicity Clause",
          "Survival Clause",
          "Third party beneficiaries",
          "Courier or Messenger",
          "Delivered personally",
          "Email",
          "Facsimile",
          "Mail",
          "Breach of covenant",
          "Client has indemnity obligations",
          "Costs and expenses",
          "Counterparty has indemnity obligations",
          "Injury or death of persons",
          "Legal costs",
          "Loss or damage to property",
          "Auto Renewal Cancellation Notice Period (days)",
          "Auto Renewal Clause",
          "Client Termination for Convenience",
          "Client Termination for convenience details",
          "Client Termination for Convenience Notice Period (days)",
          "Commencement date",
          "Counterparty Notice Address Details",
          "Counterparty Termination for Convenience",
          "Counterparty Termination for convenience details",
          "Counterparty Termination for Convenience Notice Period (days)",
          "Effective date",
          "Expiry date",
          "Option to Renew",
          "Perpetual?",
          "Renewal date",
          "Renewal term (years)",
          "Term of agreement (months)",
          "Termination for cause cure period (days)",
          "Transition Obligation Details",
          "Transition Obligations on Client?"
         ],
         "y": [
          72.92,
          25.53,
          31.25,
          0,
          0,
          54.17,
          66.67,
          66.67,
          73.91,
          81.25,
          56.25,
          52.08,
          37.78,
          82.61,
          89.13,
          72.34,
          100,
          0,
          33.33,
          0,
          33.33,
          100,
          95.56,
          100,
          77.78,
          0,
          0,
          0,
          0,
          0,
          0,
          0,
          0,
          0,
          100,
          0,
          0,
          82.22,
          95.56,
          72.92,
          0,
          100,
          97.92,
          0,
          100,
          0,
          0,
          0,
          100,
          93.33,
          40,
          37.78,
          46.15,
          10.34,
          0,
          0,
          60,
          0,
          36.17,
          33.33,
          29.17,
          100,
          0,
          71.11,
          44.44,
          87.5,
          62.5,
          22.92,
          77.78,
          0,
          0,
          43.75,
          22.92,
          0,
          75,
          81.25,
          88.89,
          75.56,
          81.25,
          44.68,
          37.5,
          64.58,
          0,
          68.89,
          87.5,
          73.33,
          0,
          66.67,
          64.58,
          0,
          0,
          45,
          21.62,
          70.83,
          0,
          0,
          30.43,
          27.27,
          97.78,
          75.56,
          0,
          50,
          0,
          48.48,
          0,
          71.11
         ]
        }
       ],
       "layout": {
        "template": {
         "data": {
          "bar": [
           {
            "error_x": {
             "color": "#2a3f5f"
            },
            "error_y": {
             "color": "#2a3f5f"
            },
            "marker": {
             "line": {
              "color": "#E5ECF6",
              "width": 0.5
             }
            },
            "type": "bar"
           }
          ],
          "barpolar": [
           {
            "marker": {
             "line": {
              "color": "#E5ECF6",
              "width": 0.5
             }
            },
            "type": "barpolar"
           }
          ],
          "carpet": [
           {
            "aaxis": {
             "endlinecolor": "#2a3f5f",
             "gridcolor": "white",
             "linecolor": "white",
             "minorgridcolor": "white",
             "startlinecolor": "#2a3f5f"
            },
            "baxis": {
             "endlinecolor": "#2a3f5f",
             "gridcolor": "white",
             "linecolor": "white",
             "minorgridcolor": "white",
             "startlinecolor": "#2a3f5f"
            },
            "type": "carpet"
           }
          ],
          "choropleth": [
           {
            "colorbar": {
             "outlinewidth": 0,
             "ticks": ""
            },
            "type": "choropleth"
           }
          ],
          "contour": [
           {
            "colorbar": {
             "outlinewidth": 0,
             "ticks": ""
            },
            "colorscale": [
             [
              0,
              "#0d0887"
             ],
             [
              0.1111111111111111,
              "#46039f"
             ],
             [
              0.2222222222222222,
              "#7201a8"
             ],
             [
              0.3333333333333333,
              "#9c179e"
             ],
             [
              0.4444444444444444,
              "#bd3786"
             ],
             [
              0.5555555555555556,
              "#d8576b"
             ],
             [
              0.6666666666666666,
              "#ed7953"
             ],
             [
              0.7777777777777778,
              "#fb9f3a"
             ],
             [
              0.8888888888888888,
              "#fdca26"
             ],
             [
              1,
              "#f0f921"
             ]
            ],
            "type": "contour"
           }
          ],
          "contourcarpet": [
           {
            "colorbar": {
             "outlinewidth": 0,
             "ticks": ""
            },
            "type": "contourcarpet"
           }
          ],
          "heatmap": [
           {
            "colorbar": {
             "outlinewidth": 0,
             "ticks": ""
            },
            "colorscale": [
             [
              0,
              "#0d0887"
             ],
             [
              0.1111111111111111,
              "#46039f"
             ],
             [
              0.2222222222222222,
              "#7201a8"
             ],
             [
              0.3333333333333333,
              "#9c179e"
             ],
             [
              0.4444444444444444,
              "#bd3786"
             ],
             [
              0.5555555555555556,
              "#d8576b"
             ],
             [
              0.6666666666666666,
              "#ed7953"
             ],
             [
              0.7777777777777778,
              "#fb9f3a"
             ],
             [
              0.8888888888888888,
              "#fdca26"
             ],
             [
              1,
              "#f0f921"
             ]
            ],
            "type": "heatmap"
           }
          ],
          "heatmapgl": [
           {
            "colorbar": {
             "outlinewidth": 0,
             "ticks": ""
            },
            "colorscale": [
             [
              0,
              "#0d0887"
             ],
             [
              0.1111111111111111,
              "#46039f"
             ],
             [
              0.2222222222222222,
              "#7201a8"
             ],
             [
              0.3333333333333333,
              "#9c179e"
             ],
             [
              0.4444444444444444,
              "#bd3786"
             ],
             [
              0.5555555555555556,
              "#d8576b"
             ],
             [
              0.6666666666666666,
              "#ed7953"
             ],
             [
              0.7777777777777778,
              "#fb9f3a"
             ],
             [
              0.8888888888888888,
              "#fdca26"
             ],
             [
              1,
              "#f0f921"
             ]
            ],
            "type": "heatmapgl"
           }
          ],
          "histogram": [
           {
            "marker": {
             "colorbar": {
              "outlinewidth": 0,
              "ticks": ""
             }
            },
            "type": "histogram"
           }
          ],
          "histogram2d": [
           {
            "colorbar": {
             "outlinewidth": 0,
             "ticks": ""
            },
            "colorscale": [
             [
              0,
              "#0d0887"
             ],
             [
              0.1111111111111111,
              "#46039f"
             ],
             [
              0.2222222222222222,
              "#7201a8"
             ],
             [
              0.3333333333333333,
              "#9c179e"
             ],
             [
              0.4444444444444444,
              "#bd3786"
             ],
             [
              0.5555555555555556,
              "#d8576b"
             ],
             [
              0.6666666666666666,
              "#ed7953"
             ],
             [
              0.7777777777777778,
              "#fb9f3a"
             ],
             [
              0.8888888888888888,
              "#fdca26"
             ],
             [
              1,
              "#f0f921"
             ]
            ],
            "type": "histogram2d"
           }
          ],
          "histogram2dcontour": [
           {
            "colorbar": {
             "outlinewidth": 0,
             "ticks": ""
            },
            "colorscale": [
             [
              0,
              "#0d0887"
             ],
             [
              0.1111111111111111,
              "#46039f"
             ],
             [
              0.2222222222222222,
              "#7201a8"
             ],
             [
              0.3333333333333333,
              "#9c179e"
             ],
             [
              0.4444444444444444,
              "#bd3786"
             ],
             [
              0.5555555555555556,
              "#d8576b"
             ],
             [
              0.6666666666666666,
              "#ed7953"
             ],
             [
              0.7777777777777778,
              "#fb9f3a"
             ],
             [
              0.8888888888888888,
              "#fdca26"
             ],
             [
              1,
              "#f0f921"
             ]
            ],
            "type": "histogram2dcontour"
           }
          ],
          "mesh3d": [
           {
            "colorbar": {
             "outlinewidth": 0,
             "ticks": ""
            },
            "type": "mesh3d"
           }
          ],
          "parcoords": [
           {
            "line": {
             "colorbar": {
              "outlinewidth": 0,
              "ticks": ""
             }
            },
            "type": "parcoords"
           }
          ],
          "pie": [
           {
            "automargin": true,
            "type": "pie"
           }
          ],
          "scatter": [
           {
            "marker": {
             "colorbar": {
              "outlinewidth": 0,
              "ticks": ""
             }
            },
            "type": "scatter"
           }
          ],
          "scatter3d": [
           {
            "line": {
             "colorbar": {
              "outlinewidth": 0,
              "ticks": ""
             }
            },
            "marker": {
             "colorbar": {
              "outlinewidth": 0,
              "ticks": ""
             }
            },
            "type": "scatter3d"
           }
          ],
          "scattercarpet": [
           {
            "marker": {
             "colorbar": {
              "outlinewidth": 0,
              "ticks": ""
             }
            },
            "type": "scattercarpet"
           }
          ],
          "scattergeo": [
           {
            "marker": {
             "colorbar": {
              "outlinewidth": 0,
              "ticks": ""
             }
            },
            "type": "scattergeo"
           }
          ],
          "scattergl": [
           {
            "marker": {
             "colorbar": {
              "outlinewidth": 0,
              "ticks": ""
             }
            },
            "type": "scattergl"
           }
          ],
          "scattermapbox": [
           {
            "marker": {
             "colorbar": {
              "outlinewidth": 0,
              "ticks": ""
             }
            },
            "type": "scattermapbox"
           }
          ],
          "scatterpolar": [
           {
            "marker": {
             "colorbar": {
              "outlinewidth": 0,
              "ticks": ""
             }
            },
            "type": "scatterpolar"
           }
          ],
          "scatterpolargl": [
           {
            "marker": {
             "colorbar": {
              "outlinewidth": 0,
              "ticks": ""
             }
            },
            "type": "scatterpolargl"
           }
          ],
          "scatterternary": [
           {
            "marker": {
             "colorbar": {
              "outlinewidth": 0,
              "ticks": ""
             }
            },
            "type": "scatterternary"
           }
          ],
          "surface": [
           {
            "colorbar": {
             "outlinewidth": 0,
             "ticks": ""
            },
            "colorscale": [
             [
              0,
              "#0d0887"
             ],
             [
              0.1111111111111111,
              "#46039f"
             ],
             [
              0.2222222222222222,
              "#7201a8"
             ],
             [
              0.3333333333333333,
              "#9c179e"
             ],
             [
              0.4444444444444444,
              "#bd3786"
             ],
             [
              0.5555555555555556,
              "#d8576b"
             ],
             [
              0.6666666666666666,
              "#ed7953"
             ],
             [
              0.7777777777777778,
              "#fb9f3a"
             ],
             [
              0.8888888888888888,
              "#fdca26"
             ],
             [
              1,
              "#f0f921"
             ]
            ],
            "type": "surface"
           }
          ],
          "table": [
           {
            "cells": {
             "fill": {
              "color": "#EBF0F8"
             },
             "line": {
              "color": "white"
             }
            },
            "header": {
             "fill": {
              "color": "#C8D4E3"
             },
             "line": {
              "color": "white"
             }
            },
            "type": "table"
           }
          ]
         },
         "layout": {
          "annotationdefaults": {
           "arrowcolor": "#2a3f5f",
           "arrowhead": 0,
           "arrowwidth": 1
          },
          "coloraxis": {
           "colorbar": {
            "outlinewidth": 0,
            "ticks": ""
           }
          },
          "colorscale": {
           "diverging": [
            [
             0,
             "#8e0152"
            ],
            [
             0.1,
             "#c51b7d"
            ],
            [
             0.2,
             "#de77ae"
            ],
            [
             0.3,
             "#f1b6da"
            ],
            [
             0.4,
             "#fde0ef"
            ],
            [
             0.5,
             "#f7f7f7"
            ],
            [
             0.6,
             "#e6f5d0"
            ],
            [
             0.7,
             "#b8e186"
            ],
            [
             0.8,
             "#7fbc41"
            ],
            [
             0.9,
             "#4d9221"
            ],
            [
             1,
             "#276419"
            ]
           ],
           "sequential": [
            [
             0,
             "#0d0887"
            ],
            [
             0.1111111111111111,
             "#46039f"
            ],
            [
             0.2222222222222222,
             "#7201a8"
            ],
            [
             0.3333333333333333,
             "#9c179e"
            ],
            [
             0.4444444444444444,
             "#bd3786"
            ],
            [
             0.5555555555555556,
             "#d8576b"
            ],
            [
             0.6666666666666666,
             "#ed7953"
            ],
            [
             0.7777777777777778,
             "#fb9f3a"
            ],
            [
             0.8888888888888888,
             "#fdca26"
            ],
            [
             1,
             "#f0f921"
            ]
           ],
           "sequentialminus": [
            [
             0,
             "#0d0887"
            ],
            [
             0.1111111111111111,
             "#46039f"
            ],
            [
             0.2222222222222222,
             "#7201a8"
            ],
            [
             0.3333333333333333,
             "#9c179e"
            ],
            [
             0.4444444444444444,
             "#bd3786"
            ],
            [
             0.5555555555555556,
             "#d8576b"
            ],
            [
             0.6666666666666666,
             "#ed7953"
            ],
            [
             0.7777777777777778,
             "#fb9f3a"
            ],
            [
             0.8888888888888888,
             "#fdca26"
            ],
            [
             1,
             "#f0f921"
            ]
           ]
          },
          "colorway": [
           "#636efa",
           "#EF553B",
           "#00cc96",
           "#ab63fa",
           "#FFA15A",
           "#19d3f3",
           "#FF6692",
           "#B6E880",
           "#FF97FF",
           "#FECB52"
          ],
          "font": {
           "color": "#2a3f5f"
          },
          "geo": {
           "bgcolor": "white",
           "lakecolor": "white",
           "landcolor": "#E5ECF6",
           "showlakes": true,
           "showland": true,
           "subunitcolor": "white"
          },
          "hoverlabel": {
           "align": "left"
          },
          "hovermode": "closest",
          "mapbox": {
           "style": "light"
          },
          "paper_bgcolor": "white",
          "plot_bgcolor": "#E5ECF6",
          "polar": {
           "angularaxis": {
            "gridcolor": "white",
            "linecolor": "white",
            "ticks": ""
           },
           "bgcolor": "#E5ECF6",
           "radialaxis": {
            "gridcolor": "white",
            "linecolor": "white",
            "ticks": ""
           }
          },
          "scene": {
           "xaxis": {
            "backgroundcolor": "#E5ECF6",
            "gridcolor": "white",
            "gridwidth": 2,
            "linecolor": "white",
            "showbackground": true,
            "ticks": "",
            "zerolinecolor": "white"
           },
           "yaxis": {
            "backgroundcolor": "#E5ECF6",
            "gridcolor": "white",
            "gridwidth": 2,
            "linecolor": "white",
            "showbackground": true,
            "ticks": "",
            "zerolinecolor": "white"
           },
           "zaxis": {
            "backgroundcolor": "#E5ECF6",
            "gridcolor": "white",
            "gridwidth": 2,
            "linecolor": "white",
            "showbackground": true,
            "ticks": "",
            "zerolinecolor": "white"
           }
          },
          "shapedefaults": {
           "line": {
            "color": "#2a3f5f"
           }
          },
          "ternary": {
           "aaxis": {
            "gridcolor": "white",
            "linecolor": "white",
            "ticks": ""
           },
           "baxis": {
            "gridcolor": "white",
            "linecolor": "white",
            "ticks": ""
           },
           "bgcolor": "#E5ECF6",
           "caxis": {
            "gridcolor": "white",
            "linecolor": "white",
            "ticks": ""
           }
          },
          "title": {
           "x": 0.05
          },
          "xaxis": {
           "automargin": true,
           "gridcolor": "white",
           "linecolor": "white",
           "ticks": "",
           "title": {
            "standoff": 15
           },
           "zerolinecolor": "white",
           "zerolinewidth": 2
          },
          "yaxis": {
           "automargin": true,
           "gridcolor": "white",
           "linecolor": "white",
           "ticks": "",
           "title": {
            "standoff": 15
           },
           "zerolinecolor": "white",
           "zerolinewidth": 2
          }
         }
        },
        "title": {
         "text": "Key Picked VS Accuracy"
        },
        "xaxis": {
         "rangeslider": {
          "visible": true
         },
         "title": {
          "text": "Key Picked"
         }
        },
        "yaxis": {
         "title": {
          "text": "Accuracy"
         }
        }
       }
      },
      "text/html": [
       "<div>\n",
       "        \n",
       "        \n",
       "            <div id=\"60503571-8bf4-4528-b397-c749ad6d901b\" class=\"plotly-graph-div\" style=\"height:525px; width:100%;\"></div>\n",
       "            <script type=\"text/javascript\">\n",
       "                require([\"plotly\"], function(Plotly) {\n",
       "                    window.PLOTLYENV=window.PLOTLYENV || {};\n",
       "                    \n",
       "                if (document.getElementById(\"60503571-8bf4-4528-b397-c749ad6d901b\")) {\n",
       "                    Plotly.newPlot(\n",
       "                        '60503571-8bf4-4528-b397-c749ad6d901b',\n",
       "                        [{\"line\": {\"color\": \"red\"}, \"name\": \"Sep25\", \"type\": \"scatter\", \"x\": [\"Affiliates included\", \"Client Legal Name\", \"Counterparty Legal Name\", \"Products, Services or Combination\", \"Subject Matter of the Contract\", \"Title of Agreement\", \"Assignment Clause\", \"For certain transferees\", \"Mutually excluded\", \"Provided on written consent\", \"Unilaterally excluded\", \"Change of Control Clause\", \"For certain transferees\", \"Mutually excluded\", \"Provided on written consent\", \"Audit Rights Clause - Details\", \"Burden Rates Apply\", \"Cap on Inflation Risk Absorbed (%)\", \"Currency of the Agreement\", \"Deemed Acceptance Period (days after delivery)\", \"Fixed Fee\", \"Guaranteed Maximum Price\", \"Hourly Rates Apply\", \"Inflation Risk Absorbed by Supplier\", \"Liquidated Damages Clause\", \"Maximum Discount Percentage\", \"Minimum Discount Percentage\", \"Minimum Quantity Amount (including unit of measure)\", \"Minimum Quantity Clause\", \"Minimum Quantity Period (months)\", \"Minimum Spend Amount (local currency)\", \"Minimum Spend Clause\", \"Minimum Spend Period (months)\", \"Most Favored Nation - Details\", \"Most Favored Nation Clause\", \"Payment Duration (days)\", \"Payment Terms\", \"Penalties Clause\", \"Per Unit Pricing Applies\", \"Price Adjustment Clause\", \"Product Purchase Frequency\", \"Product Return Policy Present\", \"Savings Guarantees Present\", \"Service or Product Delivery Frequency\", \"Subscription Rates Apply\", \"Summary of Pricing Components\", \"Title and Risk of Loss Provisions Details\", \"Upfront or Down Payment Terms\", \"Volume Discounts or Rebates Available\", \"Arbitration clause\", \"Excluded laws and conventions\", \"Governing Law\", \"Jurisdiction Exclusivity\", \"Venue and Jurisdiction\", \"Cap on Limitation of Liability for Client\", \"Cap on Limitation of Liability for Counterparty\", \"Commercial general liability Insurance levels applicable\", \"Limitation of Liability Carve Outs\", \"Limitation of Liability Clause\", \"Audit Rights Clause\", \"Confidentiality Clause\", \"Data Privacy Clause\", \"Guarantee clause\", \"Intellectual Property Licensing Provisions Present\", \"Intellectual Property Ownership Provisions Present\", \"Non-Solicitation Clause\", \"Noncompete Clause\", \"Product or Service Warranties Present\", \"Product or Service Warranty Exclusions or Limitations Present\", \"Product Warranty Exclusions or Limitations Present\", \"Product Warranty Present\", \"Publicity Clause\", \"Survival Clause\", \"Third party beneficiaries\", \"Courier or Messenger\", \"Delivered personally\", \"Email\", \"Facsimile\", \"Mail\", \"Breach of covenant\", \"Client has indemnity obligations\", \"Costs and expenses\", \"Counterparty has indemnity obligations\", \"Injury or death of persons\", \"Legal costs\", \"Loss or damage to property\", \"Auto Renewal Cancellation Notice Period (days)\", \"Auto Renewal Clause\", \"Client Termination for Convenience\", \"Client Termination for convenience details\", \"Client Termination for Convenience Notice Period (days)\", \"Commencement date\", \"Counterparty Notice Address Details\", \"Counterparty Termination for Convenience\", \"Counterparty Termination for convenience details\", \"Counterparty Termination for Convenience Notice Period (days)\", \"Effective date\", \"Expiry date\", \"Option to Renew\", \"Perpetual?\", \"Renewal date\", \"Renewal term (years)\", \"Term of agreement (months)\", \"Termination for cause cure period (days)\", \"Transition Obligation Details\", \"Transition Obligations on Client?\"], \"y\": [75.29, 30.59, 27.06, 0.0, 0.0, 61.18, 69.41, 57.83, 79.76, 84.88, 71.08, 61.9, 35.37, 80.0, 90.24, 62.65, 98.82, 0.0, 20.0, 0.0, 32.94, 100.0, 96.47, 100.0, 100.0, 0.0, 0.0, 0.0, 0.0, 0.0, 0.0, 0.0, 0.0, 0.0, 100.0, 0.0, 0.0, 94.87, 85.19, 94.87, 0.0, 98.82, 100.0, 0.0, 100.0, 0.0, 0.0, 0.0, 100.0, 92.41, 25.0, 33.75, 51.52, 44.74, 0.0, 0.0, 58.62, 0.0, 45.24, 18.82, 64.56, 95.29, 0.0, 80.77, 73.08, 97.44, 85.37, 51.81, 91.03, 0.0, 0.0, 50.6, 27.06, 0.0, 87.65, 85.54, 91.03, 76.54, 89.41, 43.75, 18.82, 76.47, 0.0, 60.49, 85.88, 53.01, 0.0, 40.48, 63.1, 0.0, 0.0, 40.74, 0.0, 62.65, 0.0, 0.0, 37.35, 12.5, 98.77, 75.64, 2.56, 29.03, 0.0, 58.57, 0.0, 71.25]}, {\"line\": {\"color\": \"blue\"}, \"name\": \"Oct2\", \"type\": \"scatter\", \"x\": [\"Affiliates included\", \"Client Legal Name\", \"Counterparty Legal Name\", \"Products, Services or Combination\", \"Subject Matter of the Contract\", \"Title of Agreement\", \"Assignment Clause\", \"For certain transferees\", \"Mutually excluded\", \"Provided on written consent\", \"Unilaterally excluded\", \"Change of Control Clause\", \"For certain transferees\", \"Mutually excluded\", \"Provided on written consent\", \"Audit Rights Clause - Details\", \"Burden Rates Apply\", \"Cap on Inflation Risk Absorbed (%)\", \"Currency of the Agreement\", \"Deemed Acceptance Period (days after delivery)\", \"Fixed Fee\", \"Guaranteed Maximum Price\", \"Hourly Rates Apply\", \"Inflation Risk Absorbed by Supplier\", \"Liquidated Damages Clause\", \"Maximum Discount Percentage\", \"Minimum Discount Percentage\", \"Minimum Quantity Amount (including unit of measure)\", \"Minimum Quantity Clause\", \"Minimum Quantity Period (months)\", \"Minimum Spend Amount (local currency)\", \"Minimum Spend Clause\", \"Minimum Spend Period (months)\", \"Most Favored Nation - Details\", \"Most Favored Nation Clause\", \"Payment Duration (days)\", \"Payment Terms\", \"Penalties Clause\", \"Per Unit Pricing Applies\", \"Price Adjustment Clause\", \"Product Purchase Frequency\", \"Product Return Policy Present\", \"Savings Guarantees Present\", \"Service or Product Delivery Frequency\", \"Subscription Rates Apply\", \"Summary of Pricing Components\", \"Title and Risk of Loss Provisions Details\", \"Upfront or Down Payment Terms\", \"Volume Discounts or Rebates Available\", \"Arbitration clause\", \"Excluded laws and conventions\", \"Governing Law\", \"Jurisdiction Exclusivity\", \"Venue and Jurisdiction\", \"Cap on Limitation of Liability for Client\", \"Cap on Limitation of Liability for Counterparty\", \"Commercial general liability Insurance levels applicable\", \"Limitation of Liability Carve Outs\", \"Limitation of Liability Clause\", \"Audit Rights Clause\", \"Confidentiality Clause\", \"Data Privacy Clause\", \"Guarantee clause\", \"Intellectual Property Licensing Provisions Present\", \"Intellectual Property Ownership Provisions Present\", \"Non-Solicitation Clause\", \"Noncompete Clause\", \"Product or Service Warranties Present\", \"Product or Service Warranty Exclusions or Limitations Present\", \"Product Warranty Exclusions or Limitations Present\", \"Product Warranty Present\", \"Publicity Clause\", \"Survival Clause\", \"Third party beneficiaries\", \"Courier or Messenger\", \"Delivered personally\", \"Email\", \"Facsimile\", \"Mail\", \"Breach of covenant\", \"Client has indemnity obligations\", \"Costs and expenses\", \"Counterparty has indemnity obligations\", \"Injury or death of persons\", \"Legal costs\", \"Loss or damage to property\", \"Auto Renewal Cancellation Notice Period (days)\", \"Auto Renewal Clause\", \"Client Termination for Convenience\", \"Client Termination for convenience details\", \"Client Termination for Convenience Notice Period (days)\", \"Commencement date\", \"Counterparty Notice Address Details\", \"Counterparty Termination for Convenience\", \"Counterparty Termination for convenience details\", \"Counterparty Termination for Convenience Notice Period (days)\", \"Effective date\", \"Expiry date\", \"Option to Renew\", \"Perpetual?\", \"Renewal date\", \"Renewal term (years)\", \"Term of agreement (months)\", \"Termination for cause cure period (days)\", \"Transition Obligation Details\", \"Transition Obligations on Client?\"], \"y\": [72.92, 25.53, 31.25, 0.0, 0.0, 54.17, 66.67, 66.67, 73.91, 81.25, 56.25, 52.08, 37.78, 82.61, 89.13, 72.34, 100.0, 0.0, 33.33, 0.0, 33.33, 100.0, 95.56, 100.0, 77.78, 0.0, 0.0, 0.0, 0.0, 0.0, 0.0, 0.0, 0.0, 0.0, 100.0, 0.0, 0.0, 82.22, 95.56, 72.92, 0.0, 100.0, 97.92, 0.0, 100.0, 0.0, 0.0, 0.0, 100.0, 93.33, 40.0, 37.78, 46.15, 10.34, 0.0, 0.0, 60.0, 0.0, 36.17, 33.33, 29.17, 100.0, 0.0, 71.11, 44.44, 87.5, 62.5, 22.92, 77.78, 0.0, 0.0, 43.75, 22.92, 0.0, 75.0, 81.25, 88.89, 75.56, 81.25, 44.68, 37.5, 64.58, 0.0, 68.89, 87.5, 73.33, 0.0, 66.67, 64.58, 0.0, 0.0, 45.0, 21.62, 70.83, 0.0, 0.0, 30.43, 27.27, 97.78, 75.56, 0.0, 50.0, 0.0, 48.48, 0.0, 71.11]}],\n",
       "                        {\"template\": {\"data\": {\"bar\": [{\"error_x\": {\"color\": \"#2a3f5f\"}, \"error_y\": {\"color\": \"#2a3f5f\"}, \"marker\": {\"line\": {\"color\": \"#E5ECF6\", \"width\": 0.5}}, \"type\": \"bar\"}], \"barpolar\": [{\"marker\": {\"line\": {\"color\": \"#E5ECF6\", \"width\": 0.5}}, \"type\": \"barpolar\"}], \"carpet\": [{\"aaxis\": {\"endlinecolor\": \"#2a3f5f\", \"gridcolor\": \"white\", \"linecolor\": \"white\", \"minorgridcolor\": \"white\", \"startlinecolor\": \"#2a3f5f\"}, \"baxis\": {\"endlinecolor\": \"#2a3f5f\", \"gridcolor\": \"white\", \"linecolor\": \"white\", \"minorgridcolor\": \"white\", \"startlinecolor\": \"#2a3f5f\"}, \"type\": \"carpet\"}], \"choropleth\": [{\"colorbar\": {\"outlinewidth\": 0, \"ticks\": \"\"}, \"type\": \"choropleth\"}], \"contour\": [{\"colorbar\": {\"outlinewidth\": 0, \"ticks\": \"\"}, \"colorscale\": [[0.0, \"#0d0887\"], [0.1111111111111111, \"#46039f\"], [0.2222222222222222, \"#7201a8\"], [0.3333333333333333, \"#9c179e\"], [0.4444444444444444, \"#bd3786\"], [0.5555555555555556, \"#d8576b\"], [0.6666666666666666, \"#ed7953\"], [0.7777777777777778, \"#fb9f3a\"], [0.8888888888888888, \"#fdca26\"], [1.0, \"#f0f921\"]], \"type\": \"contour\"}], \"contourcarpet\": [{\"colorbar\": {\"outlinewidth\": 0, \"ticks\": \"\"}, \"type\": \"contourcarpet\"}], \"heatmap\": [{\"colorbar\": {\"outlinewidth\": 0, \"ticks\": \"\"}, \"colorscale\": [[0.0, \"#0d0887\"], [0.1111111111111111, \"#46039f\"], [0.2222222222222222, \"#7201a8\"], [0.3333333333333333, \"#9c179e\"], [0.4444444444444444, \"#bd3786\"], [0.5555555555555556, \"#d8576b\"], [0.6666666666666666, \"#ed7953\"], [0.7777777777777778, \"#fb9f3a\"], [0.8888888888888888, \"#fdca26\"], [1.0, \"#f0f921\"]], \"type\": \"heatmap\"}], \"heatmapgl\": [{\"colorbar\": {\"outlinewidth\": 0, \"ticks\": \"\"}, \"colorscale\": [[0.0, \"#0d0887\"], [0.1111111111111111, \"#46039f\"], [0.2222222222222222, \"#7201a8\"], [0.3333333333333333, \"#9c179e\"], [0.4444444444444444, \"#bd3786\"], [0.5555555555555556, \"#d8576b\"], [0.6666666666666666, \"#ed7953\"], [0.7777777777777778, \"#fb9f3a\"], [0.8888888888888888, \"#fdca26\"], [1.0, \"#f0f921\"]], \"type\": \"heatmapgl\"}], \"histogram\": [{\"marker\": {\"colorbar\": {\"outlinewidth\": 0, \"ticks\": \"\"}}, \"type\": \"histogram\"}], \"histogram2d\": [{\"colorbar\": {\"outlinewidth\": 0, \"ticks\": \"\"}, \"colorscale\": [[0.0, \"#0d0887\"], [0.1111111111111111, \"#46039f\"], [0.2222222222222222, \"#7201a8\"], [0.3333333333333333, \"#9c179e\"], [0.4444444444444444, \"#bd3786\"], [0.5555555555555556, \"#d8576b\"], [0.6666666666666666, \"#ed7953\"], [0.7777777777777778, \"#fb9f3a\"], [0.8888888888888888, \"#fdca26\"], [1.0, \"#f0f921\"]], \"type\": \"histogram2d\"}], \"histogram2dcontour\": [{\"colorbar\": {\"outlinewidth\": 0, \"ticks\": \"\"}, \"colorscale\": [[0.0, \"#0d0887\"], [0.1111111111111111, \"#46039f\"], [0.2222222222222222, \"#7201a8\"], [0.3333333333333333, \"#9c179e\"], [0.4444444444444444, \"#bd3786\"], [0.5555555555555556, \"#d8576b\"], [0.6666666666666666, \"#ed7953\"], [0.7777777777777778, \"#fb9f3a\"], [0.8888888888888888, \"#fdca26\"], [1.0, \"#f0f921\"]], \"type\": \"histogram2dcontour\"}], \"mesh3d\": [{\"colorbar\": {\"outlinewidth\": 0, \"ticks\": \"\"}, \"type\": \"mesh3d\"}], \"parcoords\": [{\"line\": {\"colorbar\": {\"outlinewidth\": 0, \"ticks\": \"\"}}, \"type\": \"parcoords\"}], \"pie\": [{\"automargin\": true, \"type\": \"pie\"}], \"scatter\": [{\"marker\": {\"colorbar\": {\"outlinewidth\": 0, \"ticks\": \"\"}}, \"type\": \"scatter\"}], \"scatter3d\": [{\"line\": {\"colorbar\": {\"outlinewidth\": 0, \"ticks\": \"\"}}, \"marker\": {\"colorbar\": {\"outlinewidth\": 0, \"ticks\": \"\"}}, \"type\": \"scatter3d\"}], \"scattercarpet\": [{\"marker\": {\"colorbar\": {\"outlinewidth\": 0, \"ticks\": \"\"}}, \"type\": \"scattercarpet\"}], \"scattergeo\": [{\"marker\": {\"colorbar\": {\"outlinewidth\": 0, \"ticks\": \"\"}}, \"type\": \"scattergeo\"}], \"scattergl\": [{\"marker\": {\"colorbar\": {\"outlinewidth\": 0, \"ticks\": \"\"}}, \"type\": \"scattergl\"}], \"scattermapbox\": [{\"marker\": {\"colorbar\": {\"outlinewidth\": 0, \"ticks\": \"\"}}, \"type\": \"scattermapbox\"}], \"scatterpolar\": [{\"marker\": {\"colorbar\": {\"outlinewidth\": 0, \"ticks\": \"\"}}, \"type\": \"scatterpolar\"}], \"scatterpolargl\": [{\"marker\": {\"colorbar\": {\"outlinewidth\": 0, \"ticks\": \"\"}}, \"type\": \"scatterpolargl\"}], \"scatterternary\": [{\"marker\": {\"colorbar\": {\"outlinewidth\": 0, \"ticks\": \"\"}}, \"type\": \"scatterternary\"}], \"surface\": [{\"colorbar\": {\"outlinewidth\": 0, \"ticks\": \"\"}, \"colorscale\": [[0.0, \"#0d0887\"], [0.1111111111111111, \"#46039f\"], [0.2222222222222222, \"#7201a8\"], [0.3333333333333333, \"#9c179e\"], [0.4444444444444444, \"#bd3786\"], [0.5555555555555556, \"#d8576b\"], [0.6666666666666666, \"#ed7953\"], [0.7777777777777778, \"#fb9f3a\"], [0.8888888888888888, \"#fdca26\"], [1.0, \"#f0f921\"]], \"type\": \"surface\"}], \"table\": [{\"cells\": {\"fill\": {\"color\": \"#EBF0F8\"}, \"line\": {\"color\": \"white\"}}, \"header\": {\"fill\": {\"color\": \"#C8D4E3\"}, \"line\": {\"color\": \"white\"}}, \"type\": \"table\"}]}, \"layout\": {\"annotationdefaults\": {\"arrowcolor\": \"#2a3f5f\", \"arrowhead\": 0, \"arrowwidth\": 1}, \"coloraxis\": {\"colorbar\": {\"outlinewidth\": 0, \"ticks\": \"\"}}, \"colorscale\": {\"diverging\": [[0, \"#8e0152\"], [0.1, \"#c51b7d\"], [0.2, \"#de77ae\"], [0.3, \"#f1b6da\"], [0.4, \"#fde0ef\"], [0.5, \"#f7f7f7\"], [0.6, \"#e6f5d0\"], [0.7, \"#b8e186\"], [0.8, \"#7fbc41\"], [0.9, \"#4d9221\"], [1, \"#276419\"]], \"sequential\": [[0.0, \"#0d0887\"], [0.1111111111111111, \"#46039f\"], [0.2222222222222222, \"#7201a8\"], [0.3333333333333333, \"#9c179e\"], [0.4444444444444444, \"#bd3786\"], [0.5555555555555556, \"#d8576b\"], [0.6666666666666666, \"#ed7953\"], [0.7777777777777778, \"#fb9f3a\"], [0.8888888888888888, \"#fdca26\"], [1.0, \"#f0f921\"]], \"sequentialminus\": [[0.0, \"#0d0887\"], [0.1111111111111111, \"#46039f\"], [0.2222222222222222, \"#7201a8\"], [0.3333333333333333, \"#9c179e\"], [0.4444444444444444, \"#bd3786\"], [0.5555555555555556, \"#d8576b\"], [0.6666666666666666, \"#ed7953\"], [0.7777777777777778, \"#fb9f3a\"], [0.8888888888888888, \"#fdca26\"], [1.0, \"#f0f921\"]]}, \"colorway\": [\"#636efa\", \"#EF553B\", \"#00cc96\", \"#ab63fa\", \"#FFA15A\", \"#19d3f3\", \"#FF6692\", \"#B6E880\", \"#FF97FF\", \"#FECB52\"], \"font\": {\"color\": \"#2a3f5f\"}, \"geo\": {\"bgcolor\": \"white\", \"lakecolor\": \"white\", \"landcolor\": \"#E5ECF6\", \"showlakes\": true, \"showland\": true, \"subunitcolor\": \"white\"}, \"hoverlabel\": {\"align\": \"left\"}, \"hovermode\": \"closest\", \"mapbox\": {\"style\": \"light\"}, \"paper_bgcolor\": \"white\", \"plot_bgcolor\": \"#E5ECF6\", \"polar\": {\"angularaxis\": {\"gridcolor\": \"white\", \"linecolor\": \"white\", \"ticks\": \"\"}, \"bgcolor\": \"#E5ECF6\", \"radialaxis\": {\"gridcolor\": \"white\", \"linecolor\": \"white\", \"ticks\": \"\"}}, \"scene\": {\"xaxis\": {\"backgroundcolor\": \"#E5ECF6\", \"gridcolor\": \"white\", \"gridwidth\": 2, \"linecolor\": \"white\", \"showbackground\": true, \"ticks\": \"\", \"zerolinecolor\": \"white\"}, \"yaxis\": {\"backgroundcolor\": \"#E5ECF6\", \"gridcolor\": \"white\", \"gridwidth\": 2, \"linecolor\": \"white\", \"showbackground\": true, \"ticks\": \"\", \"zerolinecolor\": \"white\"}, \"zaxis\": {\"backgroundcolor\": \"#E5ECF6\", \"gridcolor\": \"white\", \"gridwidth\": 2, \"linecolor\": \"white\", \"showbackground\": true, \"ticks\": \"\", \"zerolinecolor\": \"white\"}}, \"shapedefaults\": {\"line\": {\"color\": \"#2a3f5f\"}}, \"ternary\": {\"aaxis\": {\"gridcolor\": \"white\", \"linecolor\": \"white\", \"ticks\": \"\"}, \"baxis\": {\"gridcolor\": \"white\", \"linecolor\": \"white\", \"ticks\": \"\"}, \"bgcolor\": \"#E5ECF6\", \"caxis\": {\"gridcolor\": \"white\", \"linecolor\": \"white\", \"ticks\": \"\"}}, \"title\": {\"x\": 0.05}, \"xaxis\": {\"automargin\": true, \"gridcolor\": \"white\", \"linecolor\": \"white\", \"ticks\": \"\", \"title\": {\"standoff\": 15}, \"zerolinecolor\": \"white\", \"zerolinewidth\": 2}, \"yaxis\": {\"automargin\": true, \"gridcolor\": \"white\", \"linecolor\": \"white\", \"ticks\": \"\", \"title\": {\"standoff\": 15}, \"zerolinecolor\": \"white\", \"zerolinewidth\": 2}}}, \"title\": {\"text\": \"Key Picked VS Accuracy\"}, \"xaxis\": {\"rangeslider\": {\"visible\": true}, \"title\": {\"text\": \"Key Picked\"}}, \"yaxis\": {\"title\": {\"text\": \"Accuracy\"}}},\n",
       "                        {\"responsive\": true}\n",
       "                    ).then(function(){\n",
       "                            \n",
       "var gd = document.getElementById('60503571-8bf4-4528-b397-c749ad6d901b');\n",
       "var x = new MutationObserver(function (mutations, observer) {{\n",
       "        var display = window.getComputedStyle(gd).display;\n",
       "        if (!display || display === 'none') {{\n",
       "            console.log([gd, 'removed!']);\n",
       "            Plotly.purge(gd);\n",
       "            observer.disconnect();\n",
       "        }}\n",
       "}});\n",
       "\n",
       "// Listen for the removal of the full notebook cells\n",
       "var notebookContainer = gd.closest('#notebook-container');\n",
       "if (notebookContainer) {{\n",
       "    x.observe(notebookContainer, {childList: true});\n",
       "}}\n",
       "\n",
       "// Listen for the clearing of the current output cell\n",
       "var outputEl = gd.closest('.output');\n",
       "if (outputEl) {{\n",
       "    x.observe(outputEl, {childList: true});\n",
       "}}\n",
       "\n",
       "                        })\n",
       "                };\n",
       "                });\n",
       "            </script>\n",
       "        </div>"
      ]
     },
     "metadata": {},
     "output_type": "display_data"
    }
   ],
   "source": [
    "import pandas as pd\n",
    "import numpy as np\n",
    "import plotly.graph_objects as go\n",
    "import matplotlib.pyplot as plt\n",
    "df = pd.read_csv('/home/manish/Downloads/Exigent2.csv')\n",
    "\n",
    "fig = go.Figure()\n",
    "fig.add_trace(go.Scatter(x=df['Key Picked'], y=df['Sep25'], name=\"Sep25\",\n",
    "                         line_color='red'))\n",
    "fig.add_trace(go.Scatter(x=df['Key Picked'], y=df['Oct2'], name=\"Oct2\",\n",
    "                         line_color='blue'))\n",
    "fig.update_layout(title_text='Key Picked VS Accuracy', xaxis_title=\"Key Picked\",yaxis_title=\"Accuracy\",\n",
    "                  xaxis_rangeslider_visible=True)\n",
    "fig.show()"
   ]
  },
  {
   "cell_type": "code",
   "execution_count": null,
   "metadata": {},
   "outputs": [],
   "source": []
  }
 ],
 "metadata": {
  "kernelspec": {
   "display_name": "Python 3",
   "language": "python",
   "name": "python3"
  },
  "language_info": {
   "codemirror_mode": {
    "name": "ipython",
    "version": 3
   },
   "file_extension": ".py",
   "mimetype": "text/x-python",
   "name": "python",
   "nbconvert_exporter": "python",
   "pygments_lexer": "ipython3",
   "version": "3.6.9"
  }
 },
 "nbformat": 4,
 "nbformat_minor": 4
}
