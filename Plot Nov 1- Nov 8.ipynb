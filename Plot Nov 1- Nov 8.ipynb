{
 "cells": [
  {
   "cell_type": "code",
   "execution_count": 4,
   "metadata": {},
   "outputs": [],
   "source": [
    "import pandas as pd\n",
    "import numpy as np\n",
    "import plotly.graph_objects as go\n",
    "import matplotlib.pyplot as plt\n",
    "df = pd.read_csv('/home/manish/Downloads/Exigent2.csv')\n",
    "#df.head()"
   ]
  },
  {
   "cell_type": "code",
   "execution_count": 6,
   "metadata": {},
   "outputs": [
    {
     "data": {
      "application/vnd.plotly.v1+json": {
       "config": {
        "plotlyServerURL": "https://plot.ly"
       },
       "data": [
        {
         "line": {
          "color": "red"
         },
         "name": "Nov1",
         "type": "scatter",
         "x": [
          "Affiliates included",
          "Client Legal Name",
          "Counterparty Legal Name",
          "Products, Services or Combination",
          "Subject Matter of the Contract",
          "Title of Agreement",
          "Assignment Clause",
          "For certain transferees",
          "Mutually excluded",
          "Provided on written consent",
          "Unilaterally excluded",
          "Change of Control Clause",
          "For certain transferees",
          "Mutually excluded",
          "Provided on written consent",
          "Audit Rights Clause - Details",
          "Burden Rates Apply",
          "Cap on Inflation Risk Absorbed (%)",
          "Currency of the Agreement",
          "Deemed Acceptance Period (days after delivery)",
          "Fixed Fee",
          "Guaranteed Maximum Price",
          "Hourly Rates Apply",
          "Inflation Risk Absorbed by Supplier",
          "Liquidated Damages Clause",
          "Maximum Discount Percentage",
          "Minimum Discount Percentage",
          "Minimum Quantity Amount (including unit of measure)",
          "Minimum Quantity Clause",
          "Minimum Quantity Period (months)",
          "Minimum Spend Amount (local currency)",
          "Minimum Spend Clause",
          "Minimum Spend Period (months)",
          "Most Favored Nation - Details",
          "Most Favored Nation Clause",
          "Payment Duration (days)",
          "Payment Terms",
          "Penalties Clause",
          "Per Unit Pricing Applies",
          "Price Adjustment Clause",
          "Product Purchase Frequency",
          "Product Return Policy Present",
          "Savings Guarantees Present",
          "Service or Product Delivery Frequency",
          "Subscription Rates Apply",
          "Summary of Pricing Components",
          "Title and Risk of Loss Provisions Details",
          "Upfront or Down Payment Terms",
          "Volume Discounts or Rebates Available",
          "Arbitration clause",
          "Excluded laws and conventions",
          "Governing Law",
          "Jurisdiction Exclusivity",
          "Venue and Jurisdiction",
          "Cap on Limitation of Liability for Client",
          "Cap on Limitation of Liability for Counterparty",
          "Commercial general liability Insurance levels applicable",
          "Limitation of Liability Carve Outs",
          "Limitation of Liability Clause",
          "Audit Rights Clause",
          "Confidentiality Clause",
          "Data Privacy Clause",
          "Guarantee clause",
          "Intellectual Property Licensing Provisions Present",
          "Intellectual Property Ownership Provisions Present",
          "Non-Solicitation Clause",
          "Noncompete Clause",
          "Product or Service Warranties Present",
          "Product or Service Warranty Exclusions or Limitations Present",
          "Product Warranty Exclusions or Limitations Present",
          "Product Warranty Present",
          "Publicity Clause",
          "Survival Clause",
          "Third party beneficiaries",
          "Courier or Messenger",
          "Delivered personally",
          "Email",
          "Facsimile",
          "Mail",
          "Breach of covenant",
          "Client has indemnity obligations",
          "Costs and expenses",
          "Counterparty has indemnity obligations",
          "Injury or death of persons",
          "Legal costs",
          "Loss or damage to property",
          "Auto Renewal Cancellation Notice Period (days)",
          "Auto Renewal Clause",
          "Client Termination for Convenience",
          "Client Termination for convenience details",
          "Client Termination for Convenience Notice Period (days)",
          "Commencement date",
          "Counterparty Notice Address Details",
          "Counterparty Termination for Convenience",
          "Counterparty Termination for convenience details",
          "Counterparty Termination for Convenience Notice Period (days)",
          "Effective date",
          "Expiry date",
          "Option to Renew",
          "Perpetual?",
          "Renewal date",
          "Renewal term (years)",
          "Term of agreement (months)",
          "Termination for cause cure period (days)",
          "Transition Obligation Details",
          "Transition Obligations on Client?"
         ],
         "y": [
          "78",
          "34",
          "32",
          "88",
          "0",
          "86",
          "42",
          "38",
          "52",
          "56",
          "46",
          "74",
          "42",
          "76",
          "86",
          "56",
          "100",
          "0",
          "68.82",
          "0",
          "56",
          "96",
          "88",
          "96",
          "86",
          "0",
          "0",
          "0",
          "0",
          "0",
          "0",
          "0",
          "0",
          "0",
          "98",
          "41.67",
          "38.64",
          "74",
          "80",
          "64",
          "0",
          "92",
          "100",
          "0",
          "100",
          "0",
          "0",
          "0",
          "94",
          "92",
          "25.58",
          "51.02",
          "58.06",
          "16.67",
          "0",
          "0",
          "38.46",
          "0",
          "80",
          "58",
          "88",
          "46",
          "0",
          "42",
          "42",
          "52",
          "82",
          "52",
          "86",
          "0",
          "0",
          "56",
          "94",
          "66.67",
          "80",
          "94",
          "54",
          "52",
          "92",
          "58",
          "34",
          "64",
          "76",
          "82",
          "88",
          "78",
          "0",
          "70",
          "           ",
          "42.42",
          "51.85",
          "72.5",
          "0",
          "80",
          "0",
          "0",
          "59.52",
          "12.5",
          "96",
          "92",
          "0",
          "25",
          "0",
          "34.38",
          "0",
          "56"
         ]
        },
        {
         "line": {
          "color": "blue"
         },
         "name": "Nov8",
         "type": "scatter",
         "x": [
          "Affiliates included",
          "Client Legal Name",
          "Counterparty Legal Name",
          "Products, Services or Combination",
          "Subject Matter of the Contract",
          "Title of Agreement",
          "Assignment Clause",
          "For certain transferees",
          "Mutually excluded",
          "Provided on written consent",
          "Unilaterally excluded",
          "Change of Control Clause",
          "For certain transferees",
          "Mutually excluded",
          "Provided on written consent",
          "Audit Rights Clause - Details",
          "Burden Rates Apply",
          "Cap on Inflation Risk Absorbed (%)",
          "Currency of the Agreement",
          "Deemed Acceptance Period (days after delivery)",
          "Fixed Fee",
          "Guaranteed Maximum Price",
          "Hourly Rates Apply",
          "Inflation Risk Absorbed by Supplier",
          "Liquidated Damages Clause",
          "Maximum Discount Percentage",
          "Minimum Discount Percentage",
          "Minimum Quantity Amount (including unit of measure)",
          "Minimum Quantity Clause",
          "Minimum Quantity Period (months)",
          "Minimum Spend Amount (local currency)",
          "Minimum Spend Clause",
          "Minimum Spend Period (months)",
          "Most Favored Nation - Details",
          "Most Favored Nation Clause",
          "Payment Duration (days)",
          "Payment Terms",
          "Penalties Clause",
          "Per Unit Pricing Applies",
          "Price Adjustment Clause",
          "Product Purchase Frequency",
          "Product Return Policy Present",
          "Savings Guarantees Present",
          "Service or Product Delivery Frequency",
          "Subscription Rates Apply",
          "Summary of Pricing Components",
          "Title and Risk of Loss Provisions Details",
          "Upfront or Down Payment Terms",
          "Volume Discounts or Rebates Available",
          "Arbitration clause",
          "Excluded laws and conventions",
          "Governing Law",
          "Jurisdiction Exclusivity",
          "Venue and Jurisdiction",
          "Cap on Limitation of Liability for Client",
          "Cap on Limitation of Liability for Counterparty",
          "Commercial general liability Insurance levels applicable",
          "Limitation of Liability Carve Outs",
          "Limitation of Liability Clause",
          "Audit Rights Clause",
          "Confidentiality Clause",
          "Data Privacy Clause",
          "Guarantee clause",
          "Intellectual Property Licensing Provisions Present",
          "Intellectual Property Ownership Provisions Present",
          "Non-Solicitation Clause",
          "Noncompete Clause",
          "Product or Service Warranties Present",
          "Product or Service Warranty Exclusions or Limitations Present",
          "Product Warranty Exclusions or Limitations Present",
          "Product Warranty Present",
          "Publicity Clause",
          "Survival Clause",
          "Third party beneficiaries",
          "Courier or Messenger",
          "Delivered personally",
          "Email",
          "Facsimile",
          "Mail",
          "Breach of covenant",
          "Client has indemnity obligations",
          "Costs and expenses",
          "Counterparty has indemnity obligations",
          "Injury or death of persons",
          "Legal costs",
          "Loss or damage to property",
          "Auto Renewal Cancellation Notice Period (days)",
          "Auto Renewal Clause",
          "Client Termination for Convenience",
          "Client Termination for convenience details",
          "Client Termination for Convenience Notice Period (days)",
          "Commencement date",
          "Counterparty Notice Address Details",
          "Counterparty Termination for Convenience",
          "Counterparty Termination for convenience details",
          "Counterparty Termination for Convenience Notice Period (days)",
          "Effective date",
          "Expiry date",
          "Option to Renew",
          "Perpetual?",
          "Renewal date",
          "Renewal term (years)",
          "Term of agreement (months)",
          "Termination for cause cure period (days)",
          "Transition Obligation Details",
          "Transition Obligations on Client?"
         ],
         "y": [
          74.65,
          31.16,
          37.57,
          89.58,
          0,
          75.99,
          54.24,
          52.91,
          63.22,
          75.07,
          49.86,
          57.31,
          31.2,
          78.43,
          88.92,
          61.56,
          100,
          0,
          68.54,
          0,
          38.98,
          100.88,
          97.64,
          98.87,
          96.17,
          0,
          0,
          0,
          0,
          0,
          0,
          0,
          0,
          0,
          99.44,
          21.96,
          24.16,
          87.32,
          90.64,
          77.55,
          0,
          99.12,
          99.72,
          0,
          100,
          0,
          0,
          0,
          100,
          93.27,
          59.07,
          37.39,
          60.78,
          24.63,
          0,
          0,
          31.17,
          0,
          78.74,
          80.29,
          87.9,
          65.1,
          69.23,
          70.67,
          68.71,
          81.69,
          79.37,
          50.86,
          85.55,
          0,
          0,
          63.51,
          94.05,
          45.08,
          86.25,
          86,
          79.77,
          70.85,
          88.67,
          55.1,
          84.66,
          68.18,
          66.57,
          72.14,
          84.66,
          73.55,
          0,
          58.29,
          52.56,
          29.82,
          0,
          53.87,
          0,
          62.11,
          0,
          0,
          40.84,
          18.93,
          98.54,
          88.17,
          0,
          24.37,
          0,
          48.51,
          14.05,
          68.22
         ]
        }
       ],
       "layout": {
        "template": {
         "data": {
          "bar": [
           {
            "error_x": {
             "color": "#2a3f5f"
            },
            "error_y": {
             "color": "#2a3f5f"
            },
            "marker": {
             "line": {
              "color": "#E5ECF6",
              "width": 0.5
             }
            },
            "type": "bar"
           }
          ],
          "barpolar": [
           {
            "marker": {
             "line": {
              "color": "#E5ECF6",
              "width": 0.5
             }
            },
            "type": "barpolar"
           }
          ],
          "carpet": [
           {
            "aaxis": {
             "endlinecolor": "#2a3f5f",
             "gridcolor": "white",
             "linecolor": "white",
             "minorgridcolor": "white",
             "startlinecolor": "#2a3f5f"
            },
            "baxis": {
             "endlinecolor": "#2a3f5f",
             "gridcolor": "white",
             "linecolor": "white",
             "minorgridcolor": "white",
             "startlinecolor": "#2a3f5f"
            },
            "type": "carpet"
           }
          ],
          "choropleth": [
           {
            "colorbar": {
             "outlinewidth": 0,
             "ticks": ""
            },
            "type": "choropleth"
           }
          ],
          "contour": [
           {
            "colorbar": {
             "outlinewidth": 0,
             "ticks": ""
            },
            "colorscale": [
             [
              0,
              "#0d0887"
             ],
             [
              0.1111111111111111,
              "#46039f"
             ],
             [
              0.2222222222222222,
              "#7201a8"
             ],
             [
              0.3333333333333333,
              "#9c179e"
             ],
             [
              0.4444444444444444,
              "#bd3786"
             ],
             [
              0.5555555555555556,
              "#d8576b"
             ],
             [
              0.6666666666666666,
              "#ed7953"
             ],
             [
              0.7777777777777778,
              "#fb9f3a"
             ],
             [
              0.8888888888888888,
              "#fdca26"
             ],
             [
              1,
              "#f0f921"
             ]
            ],
            "type": "contour"
           }
          ],
          "contourcarpet": [
           {
            "colorbar": {
             "outlinewidth": 0,
             "ticks": ""
            },
            "type": "contourcarpet"
           }
          ],
          "heatmap": [
           {
            "colorbar": {
             "outlinewidth": 0,
             "ticks": ""
            },
            "colorscale": [
             [
              0,
              "#0d0887"
             ],
             [
              0.1111111111111111,
              "#46039f"
             ],
             [
              0.2222222222222222,
              "#7201a8"
             ],
             [
              0.3333333333333333,
              "#9c179e"
             ],
             [
              0.4444444444444444,
              "#bd3786"
             ],
             [
              0.5555555555555556,
              "#d8576b"
             ],
             [
              0.6666666666666666,
              "#ed7953"
             ],
             [
              0.7777777777777778,
              "#fb9f3a"
             ],
             [
              0.8888888888888888,
              "#fdca26"
             ],
             [
              1,
              "#f0f921"
             ]
            ],
            "type": "heatmap"
           }
          ],
          "heatmapgl": [
           {
            "colorbar": {
             "outlinewidth": 0,
             "ticks": ""
            },
            "colorscale": [
             [
              0,
              "#0d0887"
             ],
             [
              0.1111111111111111,
              "#46039f"
             ],
             [
              0.2222222222222222,
              "#7201a8"
             ],
             [
              0.3333333333333333,
              "#9c179e"
             ],
             [
              0.4444444444444444,
              "#bd3786"
             ],
             [
              0.5555555555555556,
              "#d8576b"
             ],
             [
              0.6666666666666666,
              "#ed7953"
             ],
             [
              0.7777777777777778,
              "#fb9f3a"
             ],
             [
              0.8888888888888888,
              "#fdca26"
             ],
             [
              1,
              "#f0f921"
             ]
            ],
            "type": "heatmapgl"
           }
          ],
          "histogram": [
           {
            "marker": {
             "colorbar": {
              "outlinewidth": 0,
              "ticks": ""
             }
            },
            "type": "histogram"
           }
          ],
          "histogram2d": [
           {
            "colorbar": {
             "outlinewidth": 0,
             "ticks": ""
            },
            "colorscale": [
             [
              0,
              "#0d0887"
             ],
             [
              0.1111111111111111,
              "#46039f"
             ],
             [
              0.2222222222222222,
              "#7201a8"
             ],
             [
              0.3333333333333333,
              "#9c179e"
             ],
             [
              0.4444444444444444,
              "#bd3786"
             ],
             [
              0.5555555555555556,
              "#d8576b"
             ],
             [
              0.6666666666666666,
              "#ed7953"
             ],
             [
              0.7777777777777778,
              "#fb9f3a"
             ],
             [
              0.8888888888888888,
              "#fdca26"
             ],
             [
              1,
              "#f0f921"
             ]
            ],
            "type": "histogram2d"
           }
          ],
          "histogram2dcontour": [
           {
            "colorbar": {
             "outlinewidth": 0,
             "ticks": ""
            },
            "colorscale": [
             [
              0,
              "#0d0887"
             ],
             [
              0.1111111111111111,
              "#46039f"
             ],
             [
              0.2222222222222222,
              "#7201a8"
             ],
             [
              0.3333333333333333,
              "#9c179e"
             ],
             [
              0.4444444444444444,
              "#bd3786"
             ],
             [
              0.5555555555555556,
              "#d8576b"
             ],
             [
              0.6666666666666666,
              "#ed7953"
             ],
             [
              0.7777777777777778,
              "#fb9f3a"
             ],
             [
              0.8888888888888888,
              "#fdca26"
             ],
             [
              1,
              "#f0f921"
             ]
            ],
            "type": "histogram2dcontour"
           }
          ],
          "mesh3d": [
           {
            "colorbar": {
             "outlinewidth": 0,
             "ticks": ""
            },
            "type": "mesh3d"
           }
          ],
          "parcoords": [
           {
            "line": {
             "colorbar": {
              "outlinewidth": 0,
              "ticks": ""
             }
            },
            "type": "parcoords"
           }
          ],
          "pie": [
           {
            "automargin": true,
            "type": "pie"
           }
          ],
          "scatter": [
           {
            "marker": {
             "colorbar": {
              "outlinewidth": 0,
              "ticks": ""
             }
            },
            "type": "scatter"
           }
          ],
          "scatter3d": [
           {
            "line": {
             "colorbar": {
              "outlinewidth": 0,
              "ticks": ""
             }
            },
            "marker": {
             "colorbar": {
              "outlinewidth": 0,
              "ticks": ""
             }
            },
            "type": "scatter3d"
           }
          ],
          "scattercarpet": [
           {
            "marker": {
             "colorbar": {
              "outlinewidth": 0,
              "ticks": ""
             }
            },
            "type": "scattercarpet"
           }
          ],
          "scattergeo": [
           {
            "marker": {
             "colorbar": {
              "outlinewidth": 0,
              "ticks": ""
             }
            },
            "type": "scattergeo"
           }
          ],
          "scattergl": [
           {
            "marker": {
             "colorbar": {
              "outlinewidth": 0,
              "ticks": ""
             }
            },
            "type": "scattergl"
           }
          ],
          "scattermapbox": [
           {
            "marker": {
             "colorbar": {
              "outlinewidth": 0,
              "ticks": ""
             }
            },
            "type": "scattermapbox"
           }
          ],
          "scatterpolar": [
           {
            "marker": {
             "colorbar": {
              "outlinewidth": 0,
              "ticks": ""
             }
            },
            "type": "scatterpolar"
           }
          ],
          "scatterpolargl": [
           {
            "marker": {
             "colorbar": {
              "outlinewidth": 0,
              "ticks": ""
             }
            },
            "type": "scatterpolargl"
           }
          ],
          "scatterternary": [
           {
            "marker": {
             "colorbar": {
              "outlinewidth": 0,
              "ticks": ""
             }
            },
            "type": "scatterternary"
           }
          ],
          "surface": [
           {
            "colorbar": {
             "outlinewidth": 0,
             "ticks": ""
            },
            "colorscale": [
             [
              0,
              "#0d0887"
             ],
             [
              0.1111111111111111,
              "#46039f"
             ],
             [
              0.2222222222222222,
              "#7201a8"
             ],
             [
              0.3333333333333333,
              "#9c179e"
             ],
             [
              0.4444444444444444,
              "#bd3786"
             ],
             [
              0.5555555555555556,
              "#d8576b"
             ],
             [
              0.6666666666666666,
              "#ed7953"
             ],
             [
              0.7777777777777778,
              "#fb9f3a"
             ],
             [
              0.8888888888888888,
              "#fdca26"
             ],
             [
              1,
              "#f0f921"
             ]
            ],
            "type": "surface"
           }
          ],
          "table": [
           {
            "cells": {
             "fill": {
              "color": "#EBF0F8"
             },
             "line": {
              "color": "white"
             }
            },
            "header": {
             "fill": {
              "color": "#C8D4E3"
             },
             "line": {
              "color": "white"
             }
            },
            "type": "table"
           }
          ]
         },
         "layout": {
          "annotationdefaults": {
           "arrowcolor": "#2a3f5f",
           "arrowhead": 0,
           "arrowwidth": 1
          },
          "coloraxis": {
           "colorbar": {
            "outlinewidth": 0,
            "ticks": ""
           }
          },
          "colorscale": {
           "diverging": [
            [
             0,
             "#8e0152"
            ],
            [
             0.1,
             "#c51b7d"
            ],
            [
             0.2,
             "#de77ae"
            ],
            [
             0.3,
             "#f1b6da"
            ],
            [
             0.4,
             "#fde0ef"
            ],
            [
             0.5,
             "#f7f7f7"
            ],
            [
             0.6,
             "#e6f5d0"
            ],
            [
             0.7,
             "#b8e186"
            ],
            [
             0.8,
             "#7fbc41"
            ],
            [
             0.9,
             "#4d9221"
            ],
            [
             1,
             "#276419"
            ]
           ],
           "sequential": [
            [
             0,
             "#0d0887"
            ],
            [
             0.1111111111111111,
             "#46039f"
            ],
            [
             0.2222222222222222,
             "#7201a8"
            ],
            [
             0.3333333333333333,
             "#9c179e"
            ],
            [
             0.4444444444444444,
             "#bd3786"
            ],
            [
             0.5555555555555556,
             "#d8576b"
            ],
            [
             0.6666666666666666,
             "#ed7953"
            ],
            [
             0.7777777777777778,
             "#fb9f3a"
            ],
            [
             0.8888888888888888,
             "#fdca26"
            ],
            [
             1,
             "#f0f921"
            ]
           ],
           "sequentialminus": [
            [
             0,
             "#0d0887"
            ],
            [
             0.1111111111111111,
             "#46039f"
            ],
            [
             0.2222222222222222,
             "#7201a8"
            ],
            [
             0.3333333333333333,
             "#9c179e"
            ],
            [
             0.4444444444444444,
             "#bd3786"
            ],
            [
             0.5555555555555556,
             "#d8576b"
            ],
            [
             0.6666666666666666,
             "#ed7953"
            ],
            [
             0.7777777777777778,
             "#fb9f3a"
            ],
            [
             0.8888888888888888,
             "#fdca26"
            ],
            [
             1,
             "#f0f921"
            ]
           ]
          },
          "colorway": [
           "#636efa",
           "#EF553B",
           "#00cc96",
           "#ab63fa",
           "#FFA15A",
           "#19d3f3",
           "#FF6692",
           "#B6E880",
           "#FF97FF",
           "#FECB52"
          ],
          "font": {
           "color": "#2a3f5f"
          },
          "geo": {
           "bgcolor": "white",
           "lakecolor": "white",
           "landcolor": "#E5ECF6",
           "showlakes": true,
           "showland": true,
           "subunitcolor": "white"
          },
          "hoverlabel": {
           "align": "left"
          },
          "hovermode": "closest",
          "mapbox": {
           "style": "light"
          },
          "paper_bgcolor": "white",
          "plot_bgcolor": "#E5ECF6",
          "polar": {
           "angularaxis": {
            "gridcolor": "white",
            "linecolor": "white",
            "ticks": ""
           },
           "bgcolor": "#E5ECF6",
           "radialaxis": {
            "gridcolor": "white",
            "linecolor": "white",
            "ticks": ""
           }
          },
          "scene": {
           "xaxis": {
            "backgroundcolor": "#E5ECF6",
            "gridcolor": "white",
            "gridwidth": 2,
            "linecolor": "white",
            "showbackground": true,
            "ticks": "",
            "zerolinecolor": "white"
           },
           "yaxis": {
            "backgroundcolor": "#E5ECF6",
            "gridcolor": "white",
            "gridwidth": 2,
            "linecolor": "white",
            "showbackground": true,
            "ticks": "",
            "zerolinecolor": "white"
           },
           "zaxis": {
            "backgroundcolor": "#E5ECF6",
            "gridcolor": "white",
            "gridwidth": 2,
            "linecolor": "white",
            "showbackground": true,
            "ticks": "",
            "zerolinecolor": "white"
           }
          },
          "shapedefaults": {
           "line": {
            "color": "#2a3f5f"
           }
          },
          "ternary": {
           "aaxis": {
            "gridcolor": "white",
            "linecolor": "white",
            "ticks": ""
           },
           "baxis": {
            "gridcolor": "white",
            "linecolor": "white",
            "ticks": ""
           },
           "bgcolor": "#E5ECF6",
           "caxis": {
            "gridcolor": "white",
            "linecolor": "white",
            "ticks": ""
           }
          },
          "title": {
           "x": 0.05
          },
          "xaxis": {
           "automargin": true,
           "gridcolor": "white",
           "linecolor": "white",
           "ticks": "",
           "title": {
            "standoff": 15
           },
           "zerolinecolor": "white",
           "zerolinewidth": 2
          },
          "yaxis": {
           "automargin": true,
           "gridcolor": "white",
           "linecolor": "white",
           "ticks": "",
           "title": {
            "standoff": 15
           },
           "zerolinecolor": "white",
           "zerolinewidth": 2
          }
         }
        },
        "title": {
         "text": "Key Picked VS Accuracy"
        },
        "xaxis": {
         "rangeslider": {
          "visible": true
         },
         "title": {
          "text": "Key Picked"
         }
        },
        "yaxis": {
         "title": {
          "text": "Accuracy"
         }
        }
       }
      },
      "text/html": [
       "<div>\n",
       "        \n",
       "        \n",
       "            <div id=\"cb27d4a3-7f50-465e-873f-c9c2669dab99\" class=\"plotly-graph-div\" style=\"height:525px; width:100%;\"></div>\n",
       "            <script type=\"text/javascript\">\n",
       "                require([\"plotly\"], function(Plotly) {\n",
       "                    window.PLOTLYENV=window.PLOTLYENV || {};\n",
       "                    \n",
       "                if (document.getElementById(\"cb27d4a3-7f50-465e-873f-c9c2669dab99\")) {\n",
       "                    Plotly.newPlot(\n",
       "                        'cb27d4a3-7f50-465e-873f-c9c2669dab99',\n",
       "                        [{\"line\": {\"color\": \"red\"}, \"name\": \"Nov1\", \"type\": \"scatter\", \"x\": [\"Affiliates included\", \"Client Legal Name\", \"Counterparty Legal Name\", \"Products, Services or Combination\", \"Subject Matter of the Contract\", \"Title of Agreement\", \"Assignment Clause\", \"For certain transferees\", \"Mutually excluded\", \"Provided on written consent\", \"Unilaterally excluded\", \"Change of Control Clause\", \"For certain transferees\", \"Mutually excluded\", \"Provided on written consent\", \"Audit Rights Clause - Details\", \"Burden Rates Apply\", \"Cap on Inflation Risk Absorbed (%)\", \"Currency of the Agreement\", \"Deemed Acceptance Period (days after delivery)\", \"Fixed Fee\", \"Guaranteed Maximum Price\", \"Hourly Rates Apply\", \"Inflation Risk Absorbed by Supplier\", \"Liquidated Damages Clause\", \"Maximum Discount Percentage\", \"Minimum Discount Percentage\", \"Minimum Quantity Amount (including unit of measure)\", \"Minimum Quantity Clause\", \"Minimum Quantity Period (months)\", \"Minimum Spend Amount (local currency)\", \"Minimum Spend Clause\", \"Minimum Spend Period (months)\", \"Most Favored Nation - Details\", \"Most Favored Nation Clause\", \"Payment Duration (days)\", \"Payment Terms\", \"Penalties Clause\", \"Per Unit Pricing Applies\", \"Price Adjustment Clause\", \"Product Purchase Frequency\", \"Product Return Policy Present\", \"Savings Guarantees Present\", \"Service or Product Delivery Frequency\", \"Subscription Rates Apply\", \"Summary of Pricing Components\", \"Title and Risk of Loss Provisions Details\", \"Upfront or Down Payment Terms\", \"Volume Discounts or Rebates Available\", \"Arbitration clause\", \"Excluded laws and conventions\", \"Governing Law\", \"Jurisdiction Exclusivity\", \"Venue and Jurisdiction\", \"Cap on Limitation of Liability for Client\", \"Cap on Limitation of Liability for Counterparty\", \"Commercial general liability Insurance levels applicable\", \"Limitation of Liability Carve Outs\", \"Limitation of Liability Clause\", \"Audit Rights Clause\", \"Confidentiality Clause\", \"Data Privacy Clause\", \"Guarantee clause\", \"Intellectual Property Licensing Provisions Present\", \"Intellectual Property Ownership Provisions Present\", \"Non-Solicitation Clause\", \"Noncompete Clause\", \"Product or Service Warranties Present\", \"Product or Service Warranty Exclusions or Limitations Present\", \"Product Warranty Exclusions or Limitations Present\", \"Product Warranty Present\", \"Publicity Clause\", \"Survival Clause\", \"Third party beneficiaries\", \"Courier or Messenger\", \"Delivered personally\", \"Email\", \"Facsimile\", \"Mail\", \"Breach of covenant\", \"Client has indemnity obligations\", \"Costs and expenses\", \"Counterparty has indemnity obligations\", \"Injury or death of persons\", \"Legal costs\", \"Loss or damage to property\", \"Auto Renewal Cancellation Notice Period (days)\", \"Auto Renewal Clause\", \"Client Termination for Convenience\", \"Client Termination for convenience details\", \"Client Termination for Convenience Notice Period (days)\", \"Commencement date\", \"Counterparty Notice Address Details\", \"Counterparty Termination for Convenience\", \"Counterparty Termination for convenience details\", \"Counterparty Termination for Convenience Notice Period (days)\", \"Effective date\", \"Expiry date\", \"Option to Renew\", \"Perpetual?\", \"Renewal date\", \"Renewal term (years)\", \"Term of agreement (months)\", \"Termination for cause cure period (days)\", \"Transition Obligation Details\", \"Transition Obligations on Client?\"], \"y\": [\"78\", \"34\", \"32\", \"88\", \"0\", \"86\", \"42\", \"38\", \"52\", \"56\", \"46\", \"74\", \"42\", \"76\", \"86\", \"56\", \"100\", \"0\", \"68.82\", \"0\", \"56\", \"96\", \"88\", \"96\", \"86\", \"0\", \"0\", \"0\", \"0\", \"0\", \"0\", \"0\", \"0\", \"0\", \"98\", \"41.67\", \"38.64\", \"74\", \"80\", \"64\", \"0\", \"92\", \"100\", \"0\", \"100\", \"0\", \"0\", \"0\", \"94\", \"92\", \"25.58\", \"51.02\", \"58.06\", \"16.67\", \"0\", \"0\", \"38.46\", \"0\", \"80\", \"58\", \"88\", \"46\", \"0\", \"42\", \"42\", \"52\", \"82\", \"52\", \"86\", \"0\", \"0\", \"56\", \"94\", \"66.67\", \"80\", \"94\", \"54\", \"52\", \"92\", \"58\", \"34\", \"64\", \"76\", \"82\", \"88\", \"78\", \"0\", \"70\", \"           \", \"42.42\", \"51.85\", \"72.5\", \"0\", \"80\", \"0\", \"0\", \"59.52\", \"12.5\", \"96\", \"92\", \"0\", \"25\", \"0\", \"34.38\", \"0\", \"56\"]}, {\"line\": {\"color\": \"blue\"}, \"name\": \"Nov8\", \"type\": \"scatter\", \"x\": [\"Affiliates included\", \"Client Legal Name\", \"Counterparty Legal Name\", \"Products, Services or Combination\", \"Subject Matter of the Contract\", \"Title of Agreement\", \"Assignment Clause\", \"For certain transferees\", \"Mutually excluded\", \"Provided on written consent\", \"Unilaterally excluded\", \"Change of Control Clause\", \"For certain transferees\", \"Mutually excluded\", \"Provided on written consent\", \"Audit Rights Clause - Details\", \"Burden Rates Apply\", \"Cap on Inflation Risk Absorbed (%)\", \"Currency of the Agreement\", \"Deemed Acceptance Period (days after delivery)\", \"Fixed Fee\", \"Guaranteed Maximum Price\", \"Hourly Rates Apply\", \"Inflation Risk Absorbed by Supplier\", \"Liquidated Damages Clause\", \"Maximum Discount Percentage\", \"Minimum Discount Percentage\", \"Minimum Quantity Amount (including unit of measure)\", \"Minimum Quantity Clause\", \"Minimum Quantity Period (months)\", \"Minimum Spend Amount (local currency)\", \"Minimum Spend Clause\", \"Minimum Spend Period (months)\", \"Most Favored Nation - Details\", \"Most Favored Nation Clause\", \"Payment Duration (days)\", \"Payment Terms\", \"Penalties Clause\", \"Per Unit Pricing Applies\", \"Price Adjustment Clause\", \"Product Purchase Frequency\", \"Product Return Policy Present\", \"Savings Guarantees Present\", \"Service or Product Delivery Frequency\", \"Subscription Rates Apply\", \"Summary of Pricing Components\", \"Title and Risk of Loss Provisions Details\", \"Upfront or Down Payment Terms\", \"Volume Discounts or Rebates Available\", \"Arbitration clause\", \"Excluded laws and conventions\", \"Governing Law\", \"Jurisdiction Exclusivity\", \"Venue and Jurisdiction\", \"Cap on Limitation of Liability for Client\", \"Cap on Limitation of Liability for Counterparty\", \"Commercial general liability Insurance levels applicable\", \"Limitation of Liability Carve Outs\", \"Limitation of Liability Clause\", \"Audit Rights Clause\", \"Confidentiality Clause\", \"Data Privacy Clause\", \"Guarantee clause\", \"Intellectual Property Licensing Provisions Present\", \"Intellectual Property Ownership Provisions Present\", \"Non-Solicitation Clause\", \"Noncompete Clause\", \"Product or Service Warranties Present\", \"Product or Service Warranty Exclusions or Limitations Present\", \"Product Warranty Exclusions or Limitations Present\", \"Product Warranty Present\", \"Publicity Clause\", \"Survival Clause\", \"Third party beneficiaries\", \"Courier or Messenger\", \"Delivered personally\", \"Email\", \"Facsimile\", \"Mail\", \"Breach of covenant\", \"Client has indemnity obligations\", \"Costs and expenses\", \"Counterparty has indemnity obligations\", \"Injury or death of persons\", \"Legal costs\", \"Loss or damage to property\", \"Auto Renewal Cancellation Notice Period (days)\", \"Auto Renewal Clause\", \"Client Termination for Convenience\", \"Client Termination for convenience details\", \"Client Termination for Convenience Notice Period (days)\", \"Commencement date\", \"Counterparty Notice Address Details\", \"Counterparty Termination for Convenience\", \"Counterparty Termination for convenience details\", \"Counterparty Termination for Convenience Notice Period (days)\", \"Effective date\", \"Expiry date\", \"Option to Renew\", \"Perpetual?\", \"Renewal date\", \"Renewal term (years)\", \"Term of agreement (months)\", \"Termination for cause cure period (days)\", \"Transition Obligation Details\", \"Transition Obligations on Client?\"], \"y\": [74.65, 31.16, 37.57, 89.58, 0.0, 75.99, 54.24, 52.91, 63.22, 75.07, 49.86, 57.31, 31.2, 78.43, 88.92, 61.56, 100.0, 0.0, 68.54, 0.0, 38.98, 100.88, 97.64, 98.87, 96.17, 0.0, 0.0, 0.0, 0.0, 0.0, 0.0, 0.0, 0.0, 0.0, 99.44, 21.96, 24.16, 87.32, 90.64, 77.55, 0.0, 99.12, 99.72, 0.0, 100.0, 0.0, 0.0, 0.0, 100.0, 93.27, 59.07, 37.39, 60.78, 24.63, 0.0, 0.0, 31.17, 0.0, 78.74, 80.29, 87.9, 65.1, 69.23, 70.67, 68.71, 81.69, 79.37, 50.86, 85.55, 0.0, 0.0, 63.51, 94.05, 45.08, 86.25, 86.0, 79.77, 70.85, 88.67, 55.1, 84.66, 68.18, 66.57, 72.14, 84.66, 73.55, 0.0, 58.29, 52.56, 29.82, 0.0, 53.87, 0.0, 62.11, 0.0, 0.0, 40.84, 18.93, 98.54, 88.17, 0.0, 24.37, 0.0, 48.51, 14.05, 68.22]}],\n",
       "                        {\"template\": {\"data\": {\"bar\": [{\"error_x\": {\"color\": \"#2a3f5f\"}, \"error_y\": {\"color\": \"#2a3f5f\"}, \"marker\": {\"line\": {\"color\": \"#E5ECF6\", \"width\": 0.5}}, \"type\": \"bar\"}], \"barpolar\": [{\"marker\": {\"line\": {\"color\": \"#E5ECF6\", \"width\": 0.5}}, \"type\": \"barpolar\"}], \"carpet\": [{\"aaxis\": {\"endlinecolor\": \"#2a3f5f\", \"gridcolor\": \"white\", \"linecolor\": \"white\", \"minorgridcolor\": \"white\", \"startlinecolor\": \"#2a3f5f\"}, \"baxis\": {\"endlinecolor\": \"#2a3f5f\", \"gridcolor\": \"white\", \"linecolor\": \"white\", \"minorgridcolor\": \"white\", \"startlinecolor\": \"#2a3f5f\"}, \"type\": \"carpet\"}], \"choropleth\": [{\"colorbar\": {\"outlinewidth\": 0, \"ticks\": \"\"}, \"type\": \"choropleth\"}], \"contour\": [{\"colorbar\": {\"outlinewidth\": 0, \"ticks\": \"\"}, \"colorscale\": [[0.0, \"#0d0887\"], [0.1111111111111111, \"#46039f\"], [0.2222222222222222, \"#7201a8\"], [0.3333333333333333, \"#9c179e\"], [0.4444444444444444, \"#bd3786\"], [0.5555555555555556, \"#d8576b\"], [0.6666666666666666, \"#ed7953\"], [0.7777777777777778, \"#fb9f3a\"], [0.8888888888888888, \"#fdca26\"], [1.0, \"#f0f921\"]], \"type\": \"contour\"}], \"contourcarpet\": [{\"colorbar\": {\"outlinewidth\": 0, \"ticks\": \"\"}, \"type\": \"contourcarpet\"}], \"heatmap\": [{\"colorbar\": {\"outlinewidth\": 0, \"ticks\": \"\"}, \"colorscale\": [[0.0, \"#0d0887\"], [0.1111111111111111, \"#46039f\"], [0.2222222222222222, \"#7201a8\"], [0.3333333333333333, \"#9c179e\"], [0.4444444444444444, \"#bd3786\"], [0.5555555555555556, \"#d8576b\"], [0.6666666666666666, \"#ed7953\"], [0.7777777777777778, \"#fb9f3a\"], [0.8888888888888888, \"#fdca26\"], [1.0, \"#f0f921\"]], \"type\": \"heatmap\"}], \"heatmapgl\": [{\"colorbar\": {\"outlinewidth\": 0, \"ticks\": \"\"}, \"colorscale\": [[0.0, \"#0d0887\"], [0.1111111111111111, \"#46039f\"], [0.2222222222222222, \"#7201a8\"], [0.3333333333333333, \"#9c179e\"], [0.4444444444444444, \"#bd3786\"], [0.5555555555555556, \"#d8576b\"], [0.6666666666666666, \"#ed7953\"], [0.7777777777777778, \"#fb9f3a\"], [0.8888888888888888, \"#fdca26\"], [1.0, \"#f0f921\"]], \"type\": \"heatmapgl\"}], \"histogram\": [{\"marker\": {\"colorbar\": {\"outlinewidth\": 0, \"ticks\": \"\"}}, \"type\": \"histogram\"}], \"histogram2d\": [{\"colorbar\": {\"outlinewidth\": 0, \"ticks\": \"\"}, \"colorscale\": [[0.0, \"#0d0887\"], [0.1111111111111111, \"#46039f\"], [0.2222222222222222, \"#7201a8\"], [0.3333333333333333, \"#9c179e\"], [0.4444444444444444, \"#bd3786\"], [0.5555555555555556, \"#d8576b\"], [0.6666666666666666, \"#ed7953\"], [0.7777777777777778, \"#fb9f3a\"], [0.8888888888888888, \"#fdca26\"], [1.0, \"#f0f921\"]], \"type\": \"histogram2d\"}], \"histogram2dcontour\": [{\"colorbar\": {\"outlinewidth\": 0, \"ticks\": \"\"}, \"colorscale\": [[0.0, \"#0d0887\"], [0.1111111111111111, \"#46039f\"], [0.2222222222222222, \"#7201a8\"], [0.3333333333333333, \"#9c179e\"], [0.4444444444444444, \"#bd3786\"], [0.5555555555555556, \"#d8576b\"], [0.6666666666666666, \"#ed7953\"], [0.7777777777777778, \"#fb9f3a\"], [0.8888888888888888, \"#fdca26\"], [1.0, \"#f0f921\"]], \"type\": \"histogram2dcontour\"}], \"mesh3d\": [{\"colorbar\": {\"outlinewidth\": 0, \"ticks\": \"\"}, \"type\": \"mesh3d\"}], \"parcoords\": [{\"line\": {\"colorbar\": {\"outlinewidth\": 0, \"ticks\": \"\"}}, \"type\": \"parcoords\"}], \"pie\": [{\"automargin\": true, \"type\": \"pie\"}], \"scatter\": [{\"marker\": {\"colorbar\": {\"outlinewidth\": 0, \"ticks\": \"\"}}, \"type\": \"scatter\"}], \"scatter3d\": [{\"line\": {\"colorbar\": {\"outlinewidth\": 0, \"ticks\": \"\"}}, \"marker\": {\"colorbar\": {\"outlinewidth\": 0, \"ticks\": \"\"}}, \"type\": \"scatter3d\"}], \"scattercarpet\": [{\"marker\": {\"colorbar\": {\"outlinewidth\": 0, \"ticks\": \"\"}}, \"type\": \"scattercarpet\"}], \"scattergeo\": [{\"marker\": {\"colorbar\": {\"outlinewidth\": 0, \"ticks\": \"\"}}, \"type\": \"scattergeo\"}], \"scattergl\": [{\"marker\": {\"colorbar\": {\"outlinewidth\": 0, \"ticks\": \"\"}}, \"type\": \"scattergl\"}], \"scattermapbox\": [{\"marker\": {\"colorbar\": {\"outlinewidth\": 0, \"ticks\": \"\"}}, \"type\": \"scattermapbox\"}], \"scatterpolar\": [{\"marker\": {\"colorbar\": {\"outlinewidth\": 0, \"ticks\": \"\"}}, \"type\": \"scatterpolar\"}], \"scatterpolargl\": [{\"marker\": {\"colorbar\": {\"outlinewidth\": 0, \"ticks\": \"\"}}, \"type\": \"scatterpolargl\"}], \"scatterternary\": [{\"marker\": {\"colorbar\": {\"outlinewidth\": 0, \"ticks\": \"\"}}, \"type\": \"scatterternary\"}], \"surface\": [{\"colorbar\": {\"outlinewidth\": 0, \"ticks\": \"\"}, \"colorscale\": [[0.0, \"#0d0887\"], [0.1111111111111111, \"#46039f\"], [0.2222222222222222, \"#7201a8\"], [0.3333333333333333, \"#9c179e\"], [0.4444444444444444, \"#bd3786\"], [0.5555555555555556, \"#d8576b\"], [0.6666666666666666, \"#ed7953\"], [0.7777777777777778, \"#fb9f3a\"], [0.8888888888888888, \"#fdca26\"], [1.0, \"#f0f921\"]], \"type\": \"surface\"}], \"table\": [{\"cells\": {\"fill\": {\"color\": \"#EBF0F8\"}, \"line\": {\"color\": \"white\"}}, \"header\": {\"fill\": {\"color\": \"#C8D4E3\"}, \"line\": {\"color\": \"white\"}}, \"type\": \"table\"}]}, \"layout\": {\"annotationdefaults\": {\"arrowcolor\": \"#2a3f5f\", \"arrowhead\": 0, \"arrowwidth\": 1}, \"coloraxis\": {\"colorbar\": {\"outlinewidth\": 0, \"ticks\": \"\"}}, \"colorscale\": {\"diverging\": [[0, \"#8e0152\"], [0.1, \"#c51b7d\"], [0.2, \"#de77ae\"], [0.3, \"#f1b6da\"], [0.4, \"#fde0ef\"], [0.5, \"#f7f7f7\"], [0.6, \"#e6f5d0\"], [0.7, \"#b8e186\"], [0.8, \"#7fbc41\"], [0.9, \"#4d9221\"], [1, \"#276419\"]], \"sequential\": [[0.0, \"#0d0887\"], [0.1111111111111111, \"#46039f\"], [0.2222222222222222, \"#7201a8\"], [0.3333333333333333, \"#9c179e\"], [0.4444444444444444, \"#bd3786\"], [0.5555555555555556, \"#d8576b\"], [0.6666666666666666, \"#ed7953\"], [0.7777777777777778, \"#fb9f3a\"], [0.8888888888888888, \"#fdca26\"], [1.0, \"#f0f921\"]], \"sequentialminus\": [[0.0, \"#0d0887\"], [0.1111111111111111, \"#46039f\"], [0.2222222222222222, \"#7201a8\"], [0.3333333333333333, \"#9c179e\"], [0.4444444444444444, \"#bd3786\"], [0.5555555555555556, \"#d8576b\"], [0.6666666666666666, \"#ed7953\"], [0.7777777777777778, \"#fb9f3a\"], [0.8888888888888888, \"#fdca26\"], [1.0, \"#f0f921\"]]}, \"colorway\": [\"#636efa\", \"#EF553B\", \"#00cc96\", \"#ab63fa\", \"#FFA15A\", \"#19d3f3\", \"#FF6692\", \"#B6E880\", \"#FF97FF\", \"#FECB52\"], \"font\": {\"color\": \"#2a3f5f\"}, \"geo\": {\"bgcolor\": \"white\", \"lakecolor\": \"white\", \"landcolor\": \"#E5ECF6\", \"showlakes\": true, \"showland\": true, \"subunitcolor\": \"white\"}, \"hoverlabel\": {\"align\": \"left\"}, \"hovermode\": \"closest\", \"mapbox\": {\"style\": \"light\"}, \"paper_bgcolor\": \"white\", \"plot_bgcolor\": \"#E5ECF6\", \"polar\": {\"angularaxis\": {\"gridcolor\": \"white\", \"linecolor\": \"white\", \"ticks\": \"\"}, \"bgcolor\": \"#E5ECF6\", \"radialaxis\": {\"gridcolor\": \"white\", \"linecolor\": \"white\", \"ticks\": \"\"}}, \"scene\": {\"xaxis\": {\"backgroundcolor\": \"#E5ECF6\", \"gridcolor\": \"white\", \"gridwidth\": 2, \"linecolor\": \"white\", \"showbackground\": true, \"ticks\": \"\", \"zerolinecolor\": \"white\"}, \"yaxis\": {\"backgroundcolor\": \"#E5ECF6\", \"gridcolor\": \"white\", \"gridwidth\": 2, \"linecolor\": \"white\", \"showbackground\": true, \"ticks\": \"\", \"zerolinecolor\": \"white\"}, \"zaxis\": {\"backgroundcolor\": \"#E5ECF6\", \"gridcolor\": \"white\", \"gridwidth\": 2, \"linecolor\": \"white\", \"showbackground\": true, \"ticks\": \"\", \"zerolinecolor\": \"white\"}}, \"shapedefaults\": {\"line\": {\"color\": \"#2a3f5f\"}}, \"ternary\": {\"aaxis\": {\"gridcolor\": \"white\", \"linecolor\": \"white\", \"ticks\": \"\"}, \"baxis\": {\"gridcolor\": \"white\", \"linecolor\": \"white\", \"ticks\": \"\"}, \"bgcolor\": \"#E5ECF6\", \"caxis\": {\"gridcolor\": \"white\", \"linecolor\": \"white\", \"ticks\": \"\"}}, \"title\": {\"x\": 0.05}, \"xaxis\": {\"automargin\": true, \"gridcolor\": \"white\", \"linecolor\": \"white\", \"ticks\": \"\", \"title\": {\"standoff\": 15}, \"zerolinecolor\": \"white\", \"zerolinewidth\": 2}, \"yaxis\": {\"automargin\": true, \"gridcolor\": \"white\", \"linecolor\": \"white\", \"ticks\": \"\", \"title\": {\"standoff\": 15}, \"zerolinecolor\": \"white\", \"zerolinewidth\": 2}}}, \"title\": {\"text\": \"Key Picked VS Accuracy\"}, \"xaxis\": {\"rangeslider\": {\"visible\": true}, \"title\": {\"text\": \"Key Picked\"}}, \"yaxis\": {\"title\": {\"text\": \"Accuracy\"}}},\n",
       "                        {\"responsive\": true}\n",
       "                    ).then(function(){\n",
       "                            \n",
       "var gd = document.getElementById('cb27d4a3-7f50-465e-873f-c9c2669dab99');\n",
       "var x = new MutationObserver(function (mutations, observer) {{\n",
       "        var display = window.getComputedStyle(gd).display;\n",
       "        if (!display || display === 'none') {{\n",
       "            console.log([gd, 'removed!']);\n",
       "            Plotly.purge(gd);\n",
       "            observer.disconnect();\n",
       "        }}\n",
       "}});\n",
       "\n",
       "// Listen for the removal of the full notebook cells\n",
       "var notebookContainer = gd.closest('#notebook-container');\n",
       "if (notebookContainer) {{\n",
       "    x.observe(notebookContainer, {childList: true});\n",
       "}}\n",
       "\n",
       "// Listen for the clearing of the current output cell\n",
       "var outputEl = gd.closest('.output');\n",
       "if (outputEl) {{\n",
       "    x.observe(outputEl, {childList: true});\n",
       "}}\n",
       "\n",
       "                        })\n",
       "                };\n",
       "                });\n",
       "            </script>\n",
       "        </div>"
      ]
     },
     "metadata": {},
     "output_type": "display_data"
    }
   ],
   "source": [
    "fig = go.Figure()\n",
    "fig.add_trace(go.Scatter(x=df['Key Picked'], y=df['Nov1'], name=\"Nov1\",\n",
    "                         line_color='red'))\n",
    "fig.add_trace(go.Scatter(x=df['Key Picked'], y=df['Nov8'], name=\"Nov8\",\n",
    "                         line_color='blue'))\n",
    "fig.update_layout(title_text='Key Picked VS Accuracy',xaxis_title=\"Key Picked\",yaxis_title=\"Accuracy\",\n",
    "                  xaxis_rangeslider_visible=True)\n",
    "fig.show()\n"
   ]
  },
  {
   "cell_type": "code",
   "execution_count": null,
   "metadata": {},
   "outputs": [],
   "source": []
  }
 ],
 "metadata": {
  "kernelspec": {
   "display_name": "Python 3",
   "language": "python",
   "name": "python3"
  },
  "language_info": {
   "codemirror_mode": {
    "name": "ipython",
    "version": 3
   },
   "file_extension": ".py",
   "mimetype": "text/x-python",
   "name": "python",
   "nbconvert_exporter": "python",
   "pygments_lexer": "ipython3",
   "version": "3.6.9"
  }
 },
 "nbformat": 4,
 "nbformat_minor": 4
}
