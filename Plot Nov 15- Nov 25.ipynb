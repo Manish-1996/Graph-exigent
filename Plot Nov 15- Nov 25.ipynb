{
 "cells": [
  {
   "cell_type": "code",
   "execution_count": 2,
   "metadata": {},
   "outputs": [],
   "source": [
    "import pandas as pd\n",
    "import numpy as np\n",
    "import plotly.graph_objects as go\n",
    "import matplotlib.pyplot as plt\n",
    "df = pd.read_csv('/home/manish/Downloads/Exigent2.csv')"
   ]
  },
  {
   "cell_type": "code",
   "execution_count": 6,
   "metadata": {},
   "outputs": [
    {
     "data": {
      "application/vnd.plotly.v1+json": {
       "config": {
        "plotlyServerURL": "https://plot.ly"
       },
       "data": [
        {
         "line": {
          "color": "red"
         },
         "name": "Nov15",
         "type": "scatter",
         "x": [
          "Affiliates included",
          "Client Legal Name",
          "Counterparty Legal Name",
          "Products, Services or Combination",
          "Subject Matter of the Contract",
          "Title of Agreement",
          "Assignment Clause",
          "For certain transferees",
          "Mutually excluded",
          "Provided on written consent",
          "Unilaterally excluded",
          "Change of Control Clause",
          "For certain transferees",
          "Mutually excluded",
          "Provided on written consent",
          "Audit Rights Clause - Details",
          "Burden Rates Apply",
          "Cap on Inflation Risk Absorbed (%)",
          "Currency of the Agreement",
          "Deemed Acceptance Period (days after delivery)",
          "Fixed Fee",
          "Guaranteed Maximum Price",
          "Hourly Rates Apply",
          "Inflation Risk Absorbed by Supplier",
          "Liquidated Damages Clause",
          "Maximum Discount Percentage",
          "Minimum Discount Percentage",
          "Minimum Quantity Amount (including unit of measure)",
          "Minimum Quantity Clause",
          "Minimum Quantity Period (months)",
          "Minimum Spend Amount (local currency)",
          "Minimum Spend Clause",
          "Minimum Spend Period (months)",
          "Most Favored Nation - Details",
          "Most Favored Nation Clause",
          "Payment Duration (days)",
          "Payment Terms",
          "Penalties Clause",
          "Per Unit Pricing Applies",
          "Price Adjustment Clause",
          "Product Purchase Frequency",
          "Product Return Policy Present",
          "Savings Guarantees Present",
          "Service or Product Delivery Frequency",
          "Subscription Rates Apply",
          "Summary of Pricing Components",
          "Title and Risk of Loss Provisions Details",
          "Upfront or Down Payment Terms",
          "Volume Discounts or Rebates Available",
          "Arbitration clause",
          "Excluded laws and conventions",
          "Governing Law",
          "Jurisdiction Exclusivity",
          "Venue and Jurisdiction",
          "Cap on Limitation of Liability for Client",
          "Cap on Limitation of Liability for Counterparty",
          "Commercial general liability Insurance levels applicable",
          "Limitation of Liability Carve Outs",
          "Limitation of Liability Clause",
          "Audit Rights Clause",
          "Confidentiality Clause",
          "Data Privacy Clause",
          "Guarantee clause",
          "Intellectual Property Licensing Provisions Present",
          "Intellectual Property Ownership Provisions Present",
          "Non-Solicitation Clause",
          "Noncompete Clause",
          "Product or Service Warranties Present",
          "Product or Service Warranty Exclusions or Limitations Present",
          "Product Warranty Exclusions or Limitations Present",
          "Product Warranty Present",
          "Publicity Clause",
          "Survival Clause",
          "Third party beneficiaries",
          "Courier or Messenger",
          "Delivered personally",
          "Email",
          "Facsimile",
          "Mail",
          "Breach of covenant",
          "Client has indemnity obligations",
          "Costs and expenses",
          "Counterparty has indemnity obligations",
          "Injury or death of persons",
          "Legal costs",
          "Loss or damage to property",
          "Auto Renewal Cancellation Notice Period (days)",
          "Auto Renewal Clause",
          "Client Termination for Convenience",
          "Client Termination for convenience details",
          "Client Termination for Convenience Notice Period (days)",
          "Commencement date",
          "Counterparty Notice Address Details",
          "Counterparty Termination for Convenience",
          "Counterparty Termination for convenience details",
          "Counterparty Termination for Convenience Notice Period (days)",
          "Effective date",
          "Expiry date",
          "Option to Renew",
          "Perpetual?",
          "Renewal date",
          "Renewal term (years)",
          "Term of agreement (months)",
          "Termination for cause cure period (days)",
          "Transition Obligation Details",
          "Transition Obligations on Client?"
         ],
         "y": [
          76,
          38,
          44,
          86,
          0,
          72,
          62,
          54,
          64,
          77.55,
          40,
          78,
          41.29,
          68,
          77.55,
          66,
          100,
          0,
          87.5,
          0,
          40,
          87.76,
          97.59,
          93.88,
          95.18,
          0,
          0,
          0,
          0,
          0,
          0,
          0,
          0,
          0,
          91.84,
          30,
          0,
          79.59,
          71.43,
          68,
          0,
          85.71,
          100,
          0,
          97.96,
          0,
          0,
          0,
          91.84,
          90,
          41.03,
          47.92,
          55.56,
          12.12,
          50,
          22.73,
          43.75,
          10.53,
          72,
          79.59,
          84,
          57.14,
          20,
          48,
          60,
          70,
          74,
          46,
          77.5,
          0,
          0,
          0,
          90,
          40,
          86,
          80,
          67.35,
          80,
          82,
          52,
          79.59,
          64,
          76,
          66,
          84,
          72,
          0,
          69.39,
          64,
          32.71,
          33.33,
          57.14,
          0,
          83.67,
          0,
          0,
          46.15,
          36.67,
          93.88,
          88,
          0,
          42.11,
          0,
          44.44,
          16.67,
          69.39
         ]
        },
        {
         "line": {
          "color": "blue"
         },
         "name": "Nov25",
         "type": "scatter",
         "x": [
          "Affiliates included",
          "Client Legal Name",
          "Counterparty Legal Name",
          "Products, Services or Combination",
          "Subject Matter of the Contract",
          "Title of Agreement",
          "Assignment Clause",
          "For certain transferees",
          "Mutually excluded",
          "Provided on written consent",
          "Unilaterally excluded",
          "Change of Control Clause",
          "For certain transferees",
          "Mutually excluded",
          "Provided on written consent",
          "Audit Rights Clause - Details",
          "Burden Rates Apply",
          "Cap on Inflation Risk Absorbed (%)",
          "Currency of the Agreement",
          "Deemed Acceptance Period (days after delivery)",
          "Fixed Fee",
          "Guaranteed Maximum Price",
          "Hourly Rates Apply",
          "Inflation Risk Absorbed by Supplier",
          "Liquidated Damages Clause",
          "Maximum Discount Percentage",
          "Minimum Discount Percentage",
          "Minimum Quantity Amount (including unit of measure)",
          "Minimum Quantity Clause",
          "Minimum Quantity Period (months)",
          "Minimum Spend Amount (local currency)",
          "Minimum Spend Clause",
          "Minimum Spend Period (months)",
          "Most Favored Nation - Details",
          "Most Favored Nation Clause",
          "Payment Duration (days)",
          "Payment Terms",
          "Penalties Clause",
          "Per Unit Pricing Applies",
          "Price Adjustment Clause",
          "Product Purchase Frequency",
          "Product Return Policy Present",
          "Savings Guarantees Present",
          "Service or Product Delivery Frequency",
          "Subscription Rates Apply",
          "Summary of Pricing Components",
          "Title and Risk of Loss Provisions Details",
          "Upfront or Down Payment Terms",
          "Volume Discounts or Rebates Available",
          "Arbitration clause",
          "Excluded laws and conventions",
          "Governing Law",
          "Jurisdiction Exclusivity",
          "Venue and Jurisdiction",
          "Cap on Limitation of Liability for Client",
          "Cap on Limitation of Liability for Counterparty",
          "Commercial general liability Insurance levels applicable",
          "Limitation of Liability Carve Outs",
          "Limitation of Liability Clause",
          "Audit Rights Clause",
          "Confidentiality Clause",
          "Data Privacy Clause",
          "Guarantee clause",
          "Intellectual Property Licensing Provisions Present",
          "Intellectual Property Ownership Provisions Present",
          "Non-Solicitation Clause",
          "Noncompete Clause",
          "Product or Service Warranties Present",
          "Product or Service Warranty Exclusions or Limitations Present",
          "Product Warranty Exclusions or Limitations Present",
          "Product Warranty Present",
          "Publicity Clause",
          "Survival Clause",
          "Third party beneficiaries",
          "Courier or Messenger",
          "Delivered personally",
          "Email",
          "Facsimile",
          "Mail",
          "Breach of covenant",
          "Client has indemnity obligations",
          "Costs and expenses",
          "Counterparty has indemnity obligations",
          "Injury or death of persons",
          "Legal costs",
          "Loss or damage to property",
          "Auto Renewal Cancellation Notice Period (days)",
          "Auto Renewal Clause",
          "Client Termination for Convenience",
          "Client Termination for convenience details",
          "Client Termination for Convenience Notice Period (days)",
          "Commencement date",
          "Counterparty Notice Address Details",
          "Counterparty Termination for Convenience",
          "Counterparty Termination for convenience details",
          "Counterparty Termination for Convenience Notice Period (days)",
          "Effective date",
          "Expiry date",
          "Option to Renew",
          "Perpetual?",
          "Renewal date",
          "Renewal term (years)",
          "Term of agreement (months)",
          "Termination for cause cure period (days)",
          "Transition Obligation Details",
          "Transition Obligations on Client?"
         ],
         "y": [
          70,
          42,
          46,
          62,
          0,
          76,
          70,
          52,
          46,
          79.59,
          46,
          82,
          18.37,
          72,
          71.43,
          68,
          100,
          0,
          87.5,
          0,
          46,
          89.8,
          85.71,
          93.88,
          59.18,
          0,
          0,
          0,
          0,
          0,
          0,
          0,
          0,
          0,
          91.84,
          23.33,
          2.08,
          83.67,
          75.51,
          46,
          0,
          85.71,
          100,
          0,
          97.96,
          0,
          0,
          0,
          91.84,
          90,
          35.9,
          52.08,
          59.26,
          15.15,
          50,
          36.36,
          37.5,
          15.79,
          74,
          81.63,
          88,
          59.18,
          20,
          54,
          56,
          72,
          74,
          22,
          75.51,
          0,
          0,
          61.22,
          92,
          46.67,
          86,
          80,
          63.27,
          82,
          78,
          50,
          75.51,
          60,
          70,
          72,
          84,
          76,
          0,
          81.63,
          62,
          23.53,
          86.67,
          91.43,
          0,
          83.67,
          0,
          0,
          89.74,
          66.67,
          93.88,
          88,
          0,
          68.42,
          3.7,
          55.56,
          0,
          38.78
         ]
        }
       ],
       "layout": {
        "template": {
         "data": {
          "bar": [
           {
            "error_x": {
             "color": "#2a3f5f"
            },
            "error_y": {
             "color": "#2a3f5f"
            },
            "marker": {
             "line": {
              "color": "#E5ECF6",
              "width": 0.5
             }
            },
            "type": "bar"
           }
          ],
          "barpolar": [
           {
            "marker": {
             "line": {
              "color": "#E5ECF6",
              "width": 0.5
             }
            },
            "type": "barpolar"
           }
          ],
          "carpet": [
           {
            "aaxis": {
             "endlinecolor": "#2a3f5f",
             "gridcolor": "white",
             "linecolor": "white",
             "minorgridcolor": "white",
             "startlinecolor": "#2a3f5f"
            },
            "baxis": {
             "endlinecolor": "#2a3f5f",
             "gridcolor": "white",
             "linecolor": "white",
             "minorgridcolor": "white",
             "startlinecolor": "#2a3f5f"
            },
            "type": "carpet"
           }
          ],
          "choropleth": [
           {
            "colorbar": {
             "outlinewidth": 0,
             "ticks": ""
            },
            "type": "choropleth"
           }
          ],
          "contour": [
           {
            "colorbar": {
             "outlinewidth": 0,
             "ticks": ""
            },
            "colorscale": [
             [
              0,
              "#0d0887"
             ],
             [
              0.1111111111111111,
              "#46039f"
             ],
             [
              0.2222222222222222,
              "#7201a8"
             ],
             [
              0.3333333333333333,
              "#9c179e"
             ],
             [
              0.4444444444444444,
              "#bd3786"
             ],
             [
              0.5555555555555556,
              "#d8576b"
             ],
             [
              0.6666666666666666,
              "#ed7953"
             ],
             [
              0.7777777777777778,
              "#fb9f3a"
             ],
             [
              0.8888888888888888,
              "#fdca26"
             ],
             [
              1,
              "#f0f921"
             ]
            ],
            "type": "contour"
           }
          ],
          "contourcarpet": [
           {
            "colorbar": {
             "outlinewidth": 0,
             "ticks": ""
            },
            "type": "contourcarpet"
           }
          ],
          "heatmap": [
           {
            "colorbar": {
             "outlinewidth": 0,
             "ticks": ""
            },
            "colorscale": [
             [
              0,
              "#0d0887"
             ],
             [
              0.1111111111111111,
              "#46039f"
             ],
             [
              0.2222222222222222,
              "#7201a8"
             ],
             [
              0.3333333333333333,
              "#9c179e"
             ],
             [
              0.4444444444444444,
              "#bd3786"
             ],
             [
              0.5555555555555556,
              "#d8576b"
             ],
             [
              0.6666666666666666,
              "#ed7953"
             ],
             [
              0.7777777777777778,
              "#fb9f3a"
             ],
             [
              0.8888888888888888,
              "#fdca26"
             ],
             [
              1,
              "#f0f921"
             ]
            ],
            "type": "heatmap"
           }
          ],
          "heatmapgl": [
           {
            "colorbar": {
             "outlinewidth": 0,
             "ticks": ""
            },
            "colorscale": [
             [
              0,
              "#0d0887"
             ],
             [
              0.1111111111111111,
              "#46039f"
             ],
             [
              0.2222222222222222,
              "#7201a8"
             ],
             [
              0.3333333333333333,
              "#9c179e"
             ],
             [
              0.4444444444444444,
              "#bd3786"
             ],
             [
              0.5555555555555556,
              "#d8576b"
             ],
             [
              0.6666666666666666,
              "#ed7953"
             ],
             [
              0.7777777777777778,
              "#fb9f3a"
             ],
             [
              0.8888888888888888,
              "#fdca26"
             ],
             [
              1,
              "#f0f921"
             ]
            ],
            "type": "heatmapgl"
           }
          ],
          "histogram": [
           {
            "marker": {
             "colorbar": {
              "outlinewidth": 0,
              "ticks": ""
             }
            },
            "type": "histogram"
           }
          ],
          "histogram2d": [
           {
            "colorbar": {
             "outlinewidth": 0,
             "ticks": ""
            },
            "colorscale": [
             [
              0,
              "#0d0887"
             ],
             [
              0.1111111111111111,
              "#46039f"
             ],
             [
              0.2222222222222222,
              "#7201a8"
             ],
             [
              0.3333333333333333,
              "#9c179e"
             ],
             [
              0.4444444444444444,
              "#bd3786"
             ],
             [
              0.5555555555555556,
              "#d8576b"
             ],
             [
              0.6666666666666666,
              "#ed7953"
             ],
             [
              0.7777777777777778,
              "#fb9f3a"
             ],
             [
              0.8888888888888888,
              "#fdca26"
             ],
             [
              1,
              "#f0f921"
             ]
            ],
            "type": "histogram2d"
           }
          ],
          "histogram2dcontour": [
           {
            "colorbar": {
             "outlinewidth": 0,
             "ticks": ""
            },
            "colorscale": [
             [
              0,
              "#0d0887"
             ],
             [
              0.1111111111111111,
              "#46039f"
             ],
             [
              0.2222222222222222,
              "#7201a8"
             ],
             [
              0.3333333333333333,
              "#9c179e"
             ],
             [
              0.4444444444444444,
              "#bd3786"
             ],
             [
              0.5555555555555556,
              "#d8576b"
             ],
             [
              0.6666666666666666,
              "#ed7953"
             ],
             [
              0.7777777777777778,
              "#fb9f3a"
             ],
             [
              0.8888888888888888,
              "#fdca26"
             ],
             [
              1,
              "#f0f921"
             ]
            ],
            "type": "histogram2dcontour"
           }
          ],
          "mesh3d": [
           {
            "colorbar": {
             "outlinewidth": 0,
             "ticks": ""
            },
            "type": "mesh3d"
           }
          ],
          "parcoords": [
           {
            "line": {
             "colorbar": {
              "outlinewidth": 0,
              "ticks": ""
             }
            },
            "type": "parcoords"
           }
          ],
          "pie": [
           {
            "automargin": true,
            "type": "pie"
           }
          ],
          "scatter": [
           {
            "marker": {
             "colorbar": {
              "outlinewidth": 0,
              "ticks": ""
             }
            },
            "type": "scatter"
           }
          ],
          "scatter3d": [
           {
            "line": {
             "colorbar": {
              "outlinewidth": 0,
              "ticks": ""
             }
            },
            "marker": {
             "colorbar": {
              "outlinewidth": 0,
              "ticks": ""
             }
            },
            "type": "scatter3d"
           }
          ],
          "scattercarpet": [
           {
            "marker": {
             "colorbar": {
              "outlinewidth": 0,
              "ticks": ""
             }
            },
            "type": "scattercarpet"
           }
          ],
          "scattergeo": [
           {
            "marker": {
             "colorbar": {
              "outlinewidth": 0,
              "ticks": ""
             }
            },
            "type": "scattergeo"
           }
          ],
          "scattergl": [
           {
            "marker": {
             "colorbar": {
              "outlinewidth": 0,
              "ticks": ""
             }
            },
            "type": "scattergl"
           }
          ],
          "scattermapbox": [
           {
            "marker": {
             "colorbar": {
              "outlinewidth": 0,
              "ticks": ""
             }
            },
            "type": "scattermapbox"
           }
          ],
          "scatterpolar": [
           {
            "marker": {
             "colorbar": {
              "outlinewidth": 0,
              "ticks": ""
             }
            },
            "type": "scatterpolar"
           }
          ],
          "scatterpolargl": [
           {
            "marker": {
             "colorbar": {
              "outlinewidth": 0,
              "ticks": ""
             }
            },
            "type": "scatterpolargl"
           }
          ],
          "scatterternary": [
           {
            "marker": {
             "colorbar": {
              "outlinewidth": 0,
              "ticks": ""
             }
            },
            "type": "scatterternary"
           }
          ],
          "surface": [
           {
            "colorbar": {
             "outlinewidth": 0,
             "ticks": ""
            },
            "colorscale": [
             [
              0,
              "#0d0887"
             ],
             [
              0.1111111111111111,
              "#46039f"
             ],
             [
              0.2222222222222222,
              "#7201a8"
             ],
             [
              0.3333333333333333,
              "#9c179e"
             ],
             [
              0.4444444444444444,
              "#bd3786"
             ],
             [
              0.5555555555555556,
              "#d8576b"
             ],
             [
              0.6666666666666666,
              "#ed7953"
             ],
             [
              0.7777777777777778,
              "#fb9f3a"
             ],
             [
              0.8888888888888888,
              "#fdca26"
             ],
             [
              1,
              "#f0f921"
             ]
            ],
            "type": "surface"
           }
          ],
          "table": [
           {
            "cells": {
             "fill": {
              "color": "#EBF0F8"
             },
             "line": {
              "color": "white"
             }
            },
            "header": {
             "fill": {
              "color": "#C8D4E3"
             },
             "line": {
              "color": "white"
             }
            },
            "type": "table"
           }
          ]
         },
         "layout": {
          "annotationdefaults": {
           "arrowcolor": "#2a3f5f",
           "arrowhead": 0,
           "arrowwidth": 1
          },
          "coloraxis": {
           "colorbar": {
            "outlinewidth": 0,
            "ticks": ""
           }
          },
          "colorscale": {
           "diverging": [
            [
             0,
             "#8e0152"
            ],
            [
             0.1,
             "#c51b7d"
            ],
            [
             0.2,
             "#de77ae"
            ],
            [
             0.3,
             "#f1b6da"
            ],
            [
             0.4,
             "#fde0ef"
            ],
            [
             0.5,
             "#f7f7f7"
            ],
            [
             0.6,
             "#e6f5d0"
            ],
            [
             0.7,
             "#b8e186"
            ],
            [
             0.8,
             "#7fbc41"
            ],
            [
             0.9,
             "#4d9221"
            ],
            [
             1,
             "#276419"
            ]
           ],
           "sequential": [
            [
             0,
             "#0d0887"
            ],
            [
             0.1111111111111111,
             "#46039f"
            ],
            [
             0.2222222222222222,
             "#7201a8"
            ],
            [
             0.3333333333333333,
             "#9c179e"
            ],
            [
             0.4444444444444444,
             "#bd3786"
            ],
            [
             0.5555555555555556,
             "#d8576b"
            ],
            [
             0.6666666666666666,
             "#ed7953"
            ],
            [
             0.7777777777777778,
             "#fb9f3a"
            ],
            [
             0.8888888888888888,
             "#fdca26"
            ],
            [
             1,
             "#f0f921"
            ]
           ],
           "sequentialminus": [
            [
             0,
             "#0d0887"
            ],
            [
             0.1111111111111111,
             "#46039f"
            ],
            [
             0.2222222222222222,
             "#7201a8"
            ],
            [
             0.3333333333333333,
             "#9c179e"
            ],
            [
             0.4444444444444444,
             "#bd3786"
            ],
            [
             0.5555555555555556,
             "#d8576b"
            ],
            [
             0.6666666666666666,
             "#ed7953"
            ],
            [
             0.7777777777777778,
             "#fb9f3a"
            ],
            [
             0.8888888888888888,
             "#fdca26"
            ],
            [
             1,
             "#f0f921"
            ]
           ]
          },
          "colorway": [
           "#636efa",
           "#EF553B",
           "#00cc96",
           "#ab63fa",
           "#FFA15A",
           "#19d3f3",
           "#FF6692",
           "#B6E880",
           "#FF97FF",
           "#FECB52"
          ],
          "font": {
           "color": "#2a3f5f"
          },
          "geo": {
           "bgcolor": "white",
           "lakecolor": "white",
           "landcolor": "#E5ECF6",
           "showlakes": true,
           "showland": true,
           "subunitcolor": "white"
          },
          "hoverlabel": {
           "align": "left"
          },
          "hovermode": "closest",
          "mapbox": {
           "style": "light"
          },
          "paper_bgcolor": "white",
          "plot_bgcolor": "#E5ECF6",
          "polar": {
           "angularaxis": {
            "gridcolor": "white",
            "linecolor": "white",
            "ticks": ""
           },
           "bgcolor": "#E5ECF6",
           "radialaxis": {
            "gridcolor": "white",
            "linecolor": "white",
            "ticks": ""
           }
          },
          "scene": {
           "xaxis": {
            "backgroundcolor": "#E5ECF6",
            "gridcolor": "white",
            "gridwidth": 2,
            "linecolor": "white",
            "showbackground": true,
            "ticks": "",
            "zerolinecolor": "white"
           },
           "yaxis": {
            "backgroundcolor": "#E5ECF6",
            "gridcolor": "white",
            "gridwidth": 2,
            "linecolor": "white",
            "showbackground": true,
            "ticks": "",
            "zerolinecolor": "white"
           },
           "zaxis": {
            "backgroundcolor": "#E5ECF6",
            "gridcolor": "white",
            "gridwidth": 2,
            "linecolor": "white",
            "showbackground": true,
            "ticks": "",
            "zerolinecolor": "white"
           }
          },
          "shapedefaults": {
           "line": {
            "color": "#2a3f5f"
           }
          },
          "ternary": {
           "aaxis": {
            "gridcolor": "white",
            "linecolor": "white",
            "ticks": ""
           },
           "baxis": {
            "gridcolor": "white",
            "linecolor": "white",
            "ticks": ""
           },
           "bgcolor": "#E5ECF6",
           "caxis": {
            "gridcolor": "white",
            "linecolor": "white",
            "ticks": ""
           }
          },
          "title": {
           "x": 0.05
          },
          "xaxis": {
           "automargin": true,
           "gridcolor": "white",
           "linecolor": "white",
           "ticks": "",
           "title": {
            "standoff": 15
           },
           "zerolinecolor": "white",
           "zerolinewidth": 2
          },
          "yaxis": {
           "automargin": true,
           "gridcolor": "white",
           "linecolor": "white",
           "ticks": "",
           "title": {
            "standoff": 15
           },
           "zerolinecolor": "white",
           "zerolinewidth": 2
          }
         }
        },
        "title": {
         "text": "Key Picked VS Accuracy"
        },
        "xaxis": {
         "rangeslider": {
          "visible": true
         },
         "title": {
          "text": "Key Picked"
         }
        },
        "yaxis": {
         "title": {
          "text": "Accuracy"
         }
        }
       }
      },
      "text/html": [
       "<div>\n",
       "        \n",
       "        \n",
       "            <div id=\"67b8b98f-91cc-415d-b36f-6fb1572a74f1\" class=\"plotly-graph-div\" style=\"height:525px; width:100%;\"></div>\n",
       "            <script type=\"text/javascript\">\n",
       "                require([\"plotly\"], function(Plotly) {\n",
       "                    window.PLOTLYENV=window.PLOTLYENV || {};\n",
       "                    \n",
       "                if (document.getElementById(\"67b8b98f-91cc-415d-b36f-6fb1572a74f1\")) {\n",
       "                    Plotly.newPlot(\n",
       "                        '67b8b98f-91cc-415d-b36f-6fb1572a74f1',\n",
       "                        [{\"line\": {\"color\": \"red\"}, \"name\": \"Nov15\", \"type\": \"scatter\", \"x\": [\"Affiliates included\", \"Client Legal Name\", \"Counterparty Legal Name\", \"Products, Services or Combination\", \"Subject Matter of the Contract\", \"Title of Agreement\", \"Assignment Clause\", \"For certain transferees\", \"Mutually excluded\", \"Provided on written consent\", \"Unilaterally excluded\", \"Change of Control Clause\", \"For certain transferees\", \"Mutually excluded\", \"Provided on written consent\", \"Audit Rights Clause - Details\", \"Burden Rates Apply\", \"Cap on Inflation Risk Absorbed (%)\", \"Currency of the Agreement\", \"Deemed Acceptance Period (days after delivery)\", \"Fixed Fee\", \"Guaranteed Maximum Price\", \"Hourly Rates Apply\", \"Inflation Risk Absorbed by Supplier\", \"Liquidated Damages Clause\", \"Maximum Discount Percentage\", \"Minimum Discount Percentage\", \"Minimum Quantity Amount (including unit of measure)\", \"Minimum Quantity Clause\", \"Minimum Quantity Period (months)\", \"Minimum Spend Amount (local currency)\", \"Minimum Spend Clause\", \"Minimum Spend Period (months)\", \"Most Favored Nation - Details\", \"Most Favored Nation Clause\", \"Payment Duration (days)\", \"Payment Terms\", \"Penalties Clause\", \"Per Unit Pricing Applies\", \"Price Adjustment Clause\", \"Product Purchase Frequency\", \"Product Return Policy Present\", \"Savings Guarantees Present\", \"Service or Product Delivery Frequency\", \"Subscription Rates Apply\", \"Summary of Pricing Components\", \"Title and Risk of Loss Provisions Details\", \"Upfront or Down Payment Terms\", \"Volume Discounts or Rebates Available\", \"Arbitration clause\", \"Excluded laws and conventions\", \"Governing Law\", \"Jurisdiction Exclusivity\", \"Venue and Jurisdiction\", \"Cap on Limitation of Liability for Client\", \"Cap on Limitation of Liability for Counterparty\", \"Commercial general liability Insurance levels applicable\", \"Limitation of Liability Carve Outs\", \"Limitation of Liability Clause\", \"Audit Rights Clause\", \"Confidentiality Clause\", \"Data Privacy Clause\", \"Guarantee clause\", \"Intellectual Property Licensing Provisions Present\", \"Intellectual Property Ownership Provisions Present\", \"Non-Solicitation Clause\", \"Noncompete Clause\", \"Product or Service Warranties Present\", \"Product or Service Warranty Exclusions or Limitations Present\", \"Product Warranty Exclusions or Limitations Present\", \"Product Warranty Present\", \"Publicity Clause\", \"Survival Clause\", \"Third party beneficiaries\", \"Courier or Messenger\", \"Delivered personally\", \"Email\", \"Facsimile\", \"Mail\", \"Breach of covenant\", \"Client has indemnity obligations\", \"Costs and expenses\", \"Counterparty has indemnity obligations\", \"Injury or death of persons\", \"Legal costs\", \"Loss or damage to property\", \"Auto Renewal Cancellation Notice Period (days)\", \"Auto Renewal Clause\", \"Client Termination for Convenience\", \"Client Termination for convenience details\", \"Client Termination for Convenience Notice Period (days)\", \"Commencement date\", \"Counterparty Notice Address Details\", \"Counterparty Termination for Convenience\", \"Counterparty Termination for convenience details\", \"Counterparty Termination for Convenience Notice Period (days)\", \"Effective date\", \"Expiry date\", \"Option to Renew\", \"Perpetual?\", \"Renewal date\", \"Renewal term (years)\", \"Term of agreement (months)\", \"Termination for cause cure period (days)\", \"Transition Obligation Details\", \"Transition Obligations on Client?\"], \"y\": [76.0, 38.0, 44.0, 86.0, 0.0, 72.0, 62.0, 54.0, 64.0, 77.55, 40.0, 78.0, 41.29, 68.0, 77.55, 66.0, 100.0, 0.0, 87.5, 0.0, 40.0, 87.76, 97.59, 93.88, 95.18, 0.0, 0.0, 0.0, 0.0, 0.0, 0.0, 0.0, 0.0, 0.0, 91.84, 30.0, 0.0, 79.59, 71.43, 68.0, 0.0, 85.71, 100.0, 0.0, 97.96, 0.0, 0.0, 0.0, 91.84, 90.0, 41.03, 47.92, 55.56, 12.12, 50.0, 22.73, 43.75, 10.53, 72.0, 79.59, 84.0, 57.14, 20.0, 48.0, 60.0, 70.0, 74.0, 46.0, 77.5, 0.0, 0.0, 0.0, 90.0, 40.0, 86.0, 80.0, 67.35, 80.0, 82.0, 52.0, 79.59, 64.0, 76.0, 66.0, 84.0, 72.0, 0.0, 69.39, 64.0, 32.71, 33.33, 57.14, 0.0, 83.67, 0.0, 0.0, 46.15, 36.67, 93.88, 88.0, 0.0, 42.11, 0.0, 44.44, 16.67, 69.39]}, {\"line\": {\"color\": \"blue\"}, \"name\": \"Nov25\", \"type\": \"scatter\", \"x\": [\"Affiliates included\", \"Client Legal Name\", \"Counterparty Legal Name\", \"Products, Services or Combination\", \"Subject Matter of the Contract\", \"Title of Agreement\", \"Assignment Clause\", \"For certain transferees\", \"Mutually excluded\", \"Provided on written consent\", \"Unilaterally excluded\", \"Change of Control Clause\", \"For certain transferees\", \"Mutually excluded\", \"Provided on written consent\", \"Audit Rights Clause - Details\", \"Burden Rates Apply\", \"Cap on Inflation Risk Absorbed (%)\", \"Currency of the Agreement\", \"Deemed Acceptance Period (days after delivery)\", \"Fixed Fee\", \"Guaranteed Maximum Price\", \"Hourly Rates Apply\", \"Inflation Risk Absorbed by Supplier\", \"Liquidated Damages Clause\", \"Maximum Discount Percentage\", \"Minimum Discount Percentage\", \"Minimum Quantity Amount (including unit of measure)\", \"Minimum Quantity Clause\", \"Minimum Quantity Period (months)\", \"Minimum Spend Amount (local currency)\", \"Minimum Spend Clause\", \"Minimum Spend Period (months)\", \"Most Favored Nation - Details\", \"Most Favored Nation Clause\", \"Payment Duration (days)\", \"Payment Terms\", \"Penalties Clause\", \"Per Unit Pricing Applies\", \"Price Adjustment Clause\", \"Product Purchase Frequency\", \"Product Return Policy Present\", \"Savings Guarantees Present\", \"Service or Product Delivery Frequency\", \"Subscription Rates Apply\", \"Summary of Pricing Components\", \"Title and Risk of Loss Provisions Details\", \"Upfront or Down Payment Terms\", \"Volume Discounts or Rebates Available\", \"Arbitration clause\", \"Excluded laws and conventions\", \"Governing Law\", \"Jurisdiction Exclusivity\", \"Venue and Jurisdiction\", \"Cap on Limitation of Liability for Client\", \"Cap on Limitation of Liability for Counterparty\", \"Commercial general liability Insurance levels applicable\", \"Limitation of Liability Carve Outs\", \"Limitation of Liability Clause\", \"Audit Rights Clause\", \"Confidentiality Clause\", \"Data Privacy Clause\", \"Guarantee clause\", \"Intellectual Property Licensing Provisions Present\", \"Intellectual Property Ownership Provisions Present\", \"Non-Solicitation Clause\", \"Noncompete Clause\", \"Product or Service Warranties Present\", \"Product or Service Warranty Exclusions or Limitations Present\", \"Product Warranty Exclusions or Limitations Present\", \"Product Warranty Present\", \"Publicity Clause\", \"Survival Clause\", \"Third party beneficiaries\", \"Courier or Messenger\", \"Delivered personally\", \"Email\", \"Facsimile\", \"Mail\", \"Breach of covenant\", \"Client has indemnity obligations\", \"Costs and expenses\", \"Counterparty has indemnity obligations\", \"Injury or death of persons\", \"Legal costs\", \"Loss or damage to property\", \"Auto Renewal Cancellation Notice Period (days)\", \"Auto Renewal Clause\", \"Client Termination for Convenience\", \"Client Termination for convenience details\", \"Client Termination for Convenience Notice Period (days)\", \"Commencement date\", \"Counterparty Notice Address Details\", \"Counterparty Termination for Convenience\", \"Counterparty Termination for convenience details\", \"Counterparty Termination for Convenience Notice Period (days)\", \"Effective date\", \"Expiry date\", \"Option to Renew\", \"Perpetual?\", \"Renewal date\", \"Renewal term (years)\", \"Term of agreement (months)\", \"Termination for cause cure period (days)\", \"Transition Obligation Details\", \"Transition Obligations on Client?\"], \"y\": [70.0, 42.0, 46.0, 62.0, 0.0, 76.0, 70.0, 52.0, 46.0, 79.59, 46.0, 82.0, 18.37, 72.0, 71.43, 68.0, 100.0, 0.0, 87.5, 0.0, 46.0, 89.8, 85.71, 93.88, 59.18, 0.0, 0.0, 0.0, 0.0, 0.0, 0.0, 0.0, 0.0, 0.0, 91.84, 23.33, 2.08, 83.67, 75.51, 46.0, 0.0, 85.71, 100.0, 0.0, 97.96, 0.0, 0.0, 0.0, 91.84, 90.0, 35.9, 52.08, 59.26, 15.15, 50.0, 36.36, 37.5, 15.79, 74.0, 81.63, 88.0, 59.18, 20.0, 54.0, 56.0, 72.0, 74.0, 22.0, 75.51, 0.0, 0.0, 61.22, 92.0, 46.67, 86.0, 80.0, 63.27, 82.0, 78.0, 50.0, 75.51, 60.0, 70.0, 72.0, 84.0, 76.0, 0.0, 81.63, 62.0, 23.53, 86.67, 91.43, 0.0, 83.67, 0.0, 0.0, 89.74, 66.67, 93.88, 88.0, 0.0, 68.42, 3.7, 55.56, 0.0, 38.78]}],\n",
       "                        {\"template\": {\"data\": {\"bar\": [{\"error_x\": {\"color\": \"#2a3f5f\"}, \"error_y\": {\"color\": \"#2a3f5f\"}, \"marker\": {\"line\": {\"color\": \"#E5ECF6\", \"width\": 0.5}}, \"type\": \"bar\"}], \"barpolar\": [{\"marker\": {\"line\": {\"color\": \"#E5ECF6\", \"width\": 0.5}}, \"type\": \"barpolar\"}], \"carpet\": [{\"aaxis\": {\"endlinecolor\": \"#2a3f5f\", \"gridcolor\": \"white\", \"linecolor\": \"white\", \"minorgridcolor\": \"white\", \"startlinecolor\": \"#2a3f5f\"}, \"baxis\": {\"endlinecolor\": \"#2a3f5f\", \"gridcolor\": \"white\", \"linecolor\": \"white\", \"minorgridcolor\": \"white\", \"startlinecolor\": \"#2a3f5f\"}, \"type\": \"carpet\"}], \"choropleth\": [{\"colorbar\": {\"outlinewidth\": 0, \"ticks\": \"\"}, \"type\": \"choropleth\"}], \"contour\": [{\"colorbar\": {\"outlinewidth\": 0, \"ticks\": \"\"}, \"colorscale\": [[0.0, \"#0d0887\"], [0.1111111111111111, \"#46039f\"], [0.2222222222222222, \"#7201a8\"], [0.3333333333333333, \"#9c179e\"], [0.4444444444444444, \"#bd3786\"], [0.5555555555555556, \"#d8576b\"], [0.6666666666666666, \"#ed7953\"], [0.7777777777777778, \"#fb9f3a\"], [0.8888888888888888, \"#fdca26\"], [1.0, \"#f0f921\"]], \"type\": \"contour\"}], \"contourcarpet\": [{\"colorbar\": {\"outlinewidth\": 0, \"ticks\": \"\"}, \"type\": \"contourcarpet\"}], \"heatmap\": [{\"colorbar\": {\"outlinewidth\": 0, \"ticks\": \"\"}, \"colorscale\": [[0.0, \"#0d0887\"], [0.1111111111111111, \"#46039f\"], [0.2222222222222222, \"#7201a8\"], [0.3333333333333333, \"#9c179e\"], [0.4444444444444444, \"#bd3786\"], [0.5555555555555556, \"#d8576b\"], [0.6666666666666666, \"#ed7953\"], [0.7777777777777778, \"#fb9f3a\"], [0.8888888888888888, \"#fdca26\"], [1.0, \"#f0f921\"]], \"type\": \"heatmap\"}], \"heatmapgl\": [{\"colorbar\": {\"outlinewidth\": 0, \"ticks\": \"\"}, \"colorscale\": [[0.0, \"#0d0887\"], [0.1111111111111111, \"#46039f\"], [0.2222222222222222, \"#7201a8\"], [0.3333333333333333, \"#9c179e\"], [0.4444444444444444, \"#bd3786\"], [0.5555555555555556, \"#d8576b\"], [0.6666666666666666, \"#ed7953\"], [0.7777777777777778, \"#fb9f3a\"], [0.8888888888888888, \"#fdca26\"], [1.0, \"#f0f921\"]], \"type\": \"heatmapgl\"}], \"histogram\": [{\"marker\": {\"colorbar\": {\"outlinewidth\": 0, \"ticks\": \"\"}}, \"type\": \"histogram\"}], \"histogram2d\": [{\"colorbar\": {\"outlinewidth\": 0, \"ticks\": \"\"}, \"colorscale\": [[0.0, \"#0d0887\"], [0.1111111111111111, \"#46039f\"], [0.2222222222222222, \"#7201a8\"], [0.3333333333333333, \"#9c179e\"], [0.4444444444444444, \"#bd3786\"], [0.5555555555555556, \"#d8576b\"], [0.6666666666666666, \"#ed7953\"], [0.7777777777777778, \"#fb9f3a\"], [0.8888888888888888, \"#fdca26\"], [1.0, \"#f0f921\"]], \"type\": \"histogram2d\"}], \"histogram2dcontour\": [{\"colorbar\": {\"outlinewidth\": 0, \"ticks\": \"\"}, \"colorscale\": [[0.0, \"#0d0887\"], [0.1111111111111111, \"#46039f\"], [0.2222222222222222, \"#7201a8\"], [0.3333333333333333, \"#9c179e\"], [0.4444444444444444, \"#bd3786\"], [0.5555555555555556, \"#d8576b\"], [0.6666666666666666, \"#ed7953\"], [0.7777777777777778, \"#fb9f3a\"], [0.8888888888888888, \"#fdca26\"], [1.0, \"#f0f921\"]], \"type\": \"histogram2dcontour\"}], \"mesh3d\": [{\"colorbar\": {\"outlinewidth\": 0, \"ticks\": \"\"}, \"type\": \"mesh3d\"}], \"parcoords\": [{\"line\": {\"colorbar\": {\"outlinewidth\": 0, \"ticks\": \"\"}}, \"type\": \"parcoords\"}], \"pie\": [{\"automargin\": true, \"type\": \"pie\"}], \"scatter\": [{\"marker\": {\"colorbar\": {\"outlinewidth\": 0, \"ticks\": \"\"}}, \"type\": \"scatter\"}], \"scatter3d\": [{\"line\": {\"colorbar\": {\"outlinewidth\": 0, \"ticks\": \"\"}}, \"marker\": {\"colorbar\": {\"outlinewidth\": 0, \"ticks\": \"\"}}, \"type\": \"scatter3d\"}], \"scattercarpet\": [{\"marker\": {\"colorbar\": {\"outlinewidth\": 0, \"ticks\": \"\"}}, \"type\": \"scattercarpet\"}], \"scattergeo\": [{\"marker\": {\"colorbar\": {\"outlinewidth\": 0, \"ticks\": \"\"}}, \"type\": \"scattergeo\"}], \"scattergl\": [{\"marker\": {\"colorbar\": {\"outlinewidth\": 0, \"ticks\": \"\"}}, \"type\": \"scattergl\"}], \"scattermapbox\": [{\"marker\": {\"colorbar\": {\"outlinewidth\": 0, \"ticks\": \"\"}}, \"type\": \"scattermapbox\"}], \"scatterpolar\": [{\"marker\": {\"colorbar\": {\"outlinewidth\": 0, \"ticks\": \"\"}}, \"type\": \"scatterpolar\"}], \"scatterpolargl\": [{\"marker\": {\"colorbar\": {\"outlinewidth\": 0, \"ticks\": \"\"}}, \"type\": \"scatterpolargl\"}], \"scatterternary\": [{\"marker\": {\"colorbar\": {\"outlinewidth\": 0, \"ticks\": \"\"}}, \"type\": \"scatterternary\"}], \"surface\": [{\"colorbar\": {\"outlinewidth\": 0, \"ticks\": \"\"}, \"colorscale\": [[0.0, \"#0d0887\"], [0.1111111111111111, \"#46039f\"], [0.2222222222222222, \"#7201a8\"], [0.3333333333333333, \"#9c179e\"], [0.4444444444444444, \"#bd3786\"], [0.5555555555555556, \"#d8576b\"], [0.6666666666666666, \"#ed7953\"], [0.7777777777777778, \"#fb9f3a\"], [0.8888888888888888, \"#fdca26\"], [1.0, \"#f0f921\"]], \"type\": \"surface\"}], \"table\": [{\"cells\": {\"fill\": {\"color\": \"#EBF0F8\"}, \"line\": {\"color\": \"white\"}}, \"header\": {\"fill\": {\"color\": \"#C8D4E3\"}, \"line\": {\"color\": \"white\"}}, \"type\": \"table\"}]}, \"layout\": {\"annotationdefaults\": {\"arrowcolor\": \"#2a3f5f\", \"arrowhead\": 0, \"arrowwidth\": 1}, \"coloraxis\": {\"colorbar\": {\"outlinewidth\": 0, \"ticks\": \"\"}}, \"colorscale\": {\"diverging\": [[0, \"#8e0152\"], [0.1, \"#c51b7d\"], [0.2, \"#de77ae\"], [0.3, \"#f1b6da\"], [0.4, \"#fde0ef\"], [0.5, \"#f7f7f7\"], [0.6, \"#e6f5d0\"], [0.7, \"#b8e186\"], [0.8, \"#7fbc41\"], [0.9, \"#4d9221\"], [1, \"#276419\"]], \"sequential\": [[0.0, \"#0d0887\"], [0.1111111111111111, \"#46039f\"], [0.2222222222222222, \"#7201a8\"], [0.3333333333333333, \"#9c179e\"], [0.4444444444444444, \"#bd3786\"], [0.5555555555555556, \"#d8576b\"], [0.6666666666666666, \"#ed7953\"], [0.7777777777777778, \"#fb9f3a\"], [0.8888888888888888, \"#fdca26\"], [1.0, \"#f0f921\"]], \"sequentialminus\": [[0.0, \"#0d0887\"], [0.1111111111111111, \"#46039f\"], [0.2222222222222222, \"#7201a8\"], [0.3333333333333333, \"#9c179e\"], [0.4444444444444444, \"#bd3786\"], [0.5555555555555556, \"#d8576b\"], [0.6666666666666666, \"#ed7953\"], [0.7777777777777778, \"#fb9f3a\"], [0.8888888888888888, \"#fdca26\"], [1.0, \"#f0f921\"]]}, \"colorway\": [\"#636efa\", \"#EF553B\", \"#00cc96\", \"#ab63fa\", \"#FFA15A\", \"#19d3f3\", \"#FF6692\", \"#B6E880\", \"#FF97FF\", \"#FECB52\"], \"font\": {\"color\": \"#2a3f5f\"}, \"geo\": {\"bgcolor\": \"white\", \"lakecolor\": \"white\", \"landcolor\": \"#E5ECF6\", \"showlakes\": true, \"showland\": true, \"subunitcolor\": \"white\"}, \"hoverlabel\": {\"align\": \"left\"}, \"hovermode\": \"closest\", \"mapbox\": {\"style\": \"light\"}, \"paper_bgcolor\": \"white\", \"plot_bgcolor\": \"#E5ECF6\", \"polar\": {\"angularaxis\": {\"gridcolor\": \"white\", \"linecolor\": \"white\", \"ticks\": \"\"}, \"bgcolor\": \"#E5ECF6\", \"radialaxis\": {\"gridcolor\": \"white\", \"linecolor\": \"white\", \"ticks\": \"\"}}, \"scene\": {\"xaxis\": {\"backgroundcolor\": \"#E5ECF6\", \"gridcolor\": \"white\", \"gridwidth\": 2, \"linecolor\": \"white\", \"showbackground\": true, \"ticks\": \"\", \"zerolinecolor\": \"white\"}, \"yaxis\": {\"backgroundcolor\": \"#E5ECF6\", \"gridcolor\": \"white\", \"gridwidth\": 2, \"linecolor\": \"white\", \"showbackground\": true, \"ticks\": \"\", \"zerolinecolor\": \"white\"}, \"zaxis\": {\"backgroundcolor\": \"#E5ECF6\", \"gridcolor\": \"white\", \"gridwidth\": 2, \"linecolor\": \"white\", \"showbackground\": true, \"ticks\": \"\", \"zerolinecolor\": \"white\"}}, \"shapedefaults\": {\"line\": {\"color\": \"#2a3f5f\"}}, \"ternary\": {\"aaxis\": {\"gridcolor\": \"white\", \"linecolor\": \"white\", \"ticks\": \"\"}, \"baxis\": {\"gridcolor\": \"white\", \"linecolor\": \"white\", \"ticks\": \"\"}, \"bgcolor\": \"#E5ECF6\", \"caxis\": {\"gridcolor\": \"white\", \"linecolor\": \"white\", \"ticks\": \"\"}}, \"title\": {\"x\": 0.05}, \"xaxis\": {\"automargin\": true, \"gridcolor\": \"white\", \"linecolor\": \"white\", \"ticks\": \"\", \"title\": {\"standoff\": 15}, \"zerolinecolor\": \"white\", \"zerolinewidth\": 2}, \"yaxis\": {\"automargin\": true, \"gridcolor\": \"white\", \"linecolor\": \"white\", \"ticks\": \"\", \"title\": {\"standoff\": 15}, \"zerolinecolor\": \"white\", \"zerolinewidth\": 2}}}, \"title\": {\"text\": \"Key Picked VS Accuracy\"}, \"xaxis\": {\"rangeslider\": {\"visible\": true}, \"title\": {\"text\": \"Key Picked\"}}, \"yaxis\": {\"title\": {\"text\": \"Accuracy\"}}},\n",
       "                        {\"responsive\": true}\n",
       "                    ).then(function(){\n",
       "                            \n",
       "var gd = document.getElementById('67b8b98f-91cc-415d-b36f-6fb1572a74f1');\n",
       "var x = new MutationObserver(function (mutations, observer) {{\n",
       "        var display = window.getComputedStyle(gd).display;\n",
       "        if (!display || display === 'none') {{\n",
       "            console.log([gd, 'removed!']);\n",
       "            Plotly.purge(gd);\n",
       "            observer.disconnect();\n",
       "        }}\n",
       "}});\n",
       "\n",
       "// Listen for the removal of the full notebook cells\n",
       "var notebookContainer = gd.closest('#notebook-container');\n",
       "if (notebookContainer) {{\n",
       "    x.observe(notebookContainer, {childList: true});\n",
       "}}\n",
       "\n",
       "// Listen for the clearing of the current output cell\n",
       "var outputEl = gd.closest('.output');\n",
       "if (outputEl) {{\n",
       "    x.observe(outputEl, {childList: true});\n",
       "}}\n",
       "\n",
       "                        })\n",
       "                };\n",
       "                });\n",
       "            </script>\n",
       "        </div>"
      ]
     },
     "metadata": {},
     "output_type": "display_data"
    }
   ],
   "source": [
    "fig = go.Figure()\n",
    "fig.add_trace(go.Scatter(x=df['Key Picked'], y=df['Nov15'], name=\"Nov15\",\n",
    "                         line_color='red'))\n",
    "fig.add_trace(go.Scatter(x=df['Key Picked'], y=df['Nov25'], name=\"Nov25\",\n",
    "                         line_color='blue'))\n",
    "fig.update_layout(title_text='Key Picked VS Accuracy', xaxis_title=\"Key Picked\",yaxis_title=\"Accuracy\",\n",
    "                  xaxis_rangeslider_visible=True)\n",
    "fig.show()"
   ]
  },
  {
   "cell_type": "code",
   "execution_count": null,
   "metadata": {},
   "outputs": [],
   "source": []
  }
 ],
 "metadata": {
  "kernelspec": {
   "display_name": "Python 3",
   "language": "python",
   "name": "python3"
  },
  "language_info": {
   "codemirror_mode": {
    "name": "ipython",
    "version": 3
   },
   "file_extension": ".py",
   "mimetype": "text/x-python",
   "name": "python",
   "nbconvert_exporter": "python",
   "pygments_lexer": "ipython3",
   "version": "3.6.9"
  }
 },
 "nbformat": 4,
 "nbformat_minor": 4
}
